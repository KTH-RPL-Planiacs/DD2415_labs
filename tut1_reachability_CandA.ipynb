{
  "nbformat": 4,
  "nbformat_minor": 0,
  "metadata": {
    "colab": {
      "provenance": [],
      "collapsed_sections": []
    },
    "kernelspec": {
      "name": "python3",
      "display_name": "Python 3"
    },
    "language_info": {
      "name": "python"
    }
  },
  "cells": [
    {
      "cell_type": "code",
      "execution_count": null,
      "metadata": {
        "id": "siiK-4ShRMc5"
      },
      "outputs": [],
      "source": [
        "import numpy as np\n",
        "import matplotlib.pyplot as plt\n",
        "from scipy.linalg import expm, solve_continuous_are\n",
        "import math\n",
        "\n",
        "# the library requires \"optional\" dependencies not available in pip for almost all basic functions, \n",
        "# but plotting for zonotopes with a small amount of generators works fine.\n",
        "# Plotting Zonotopes is the only intended use in the tutorial!\n",
        "# https://citeseerx.ist.psu.edu/viewdoc/download?doi=10.1.1.488.5151&rep=rep1&type=pdf\n",
        "!pip install pypolycontain\n",
        "import pypolycontain as pp \n",
        "\n",
        "# shapely is used for collision checking. It might not necessarily refer to zonotopes\n",
        "# but we can always transfer\n",
        "# https://shapely.readthedocs.io/en/stable/manual.html\n",
        "from shapely.geometry import box, Polygon, MultiPoint\n",
        "\n",
        "# for the animations\n",
        "from matplotlib.animation import FuncAnimation\n",
        "from IPython.display import HTML"
      ]
    },
    {
      "cell_type": "markdown",
      "source": [
        "# Safe Autonomy Tutorial: Reachability and object detection using zonotopes\n",
        "\n",
        "In this part of the tutorial, we will apply the findings of the previous tutorial to a collision-avoidance scenario! Given that we can now compute the permissible space of an autonomous system of the form \n",
        "\n",
        "$ \\dot{x}(t) = A x(t) + d(t) $\n",
        "\n",
        "were $d(t)$ is a bounded disturbance (in the previous tutorial $u(t)$), we can check the check the collision of two systems when propagated through time. \n",
        "As such, we will subject a nominally stable object and a controllable 'robot' of the form\n",
        "\n",
        "$ \\dot{x}(t) = A x(t) + B u(t) + d(t)$\n",
        "\n",
        "to a zonotope collision check. We will use LQR to stabilize the system subjected to our preferences!"
      ],
      "metadata": {
        "id": "Ydyz45miRRpy"
      }
    },
    {
      "cell_type": "markdown",
      "source": [
        "# The Object \n",
        "We consider a moving obstacle which might cause issues for the robot's planned trajectory. We consider the obstacle as a first order integrator system with an uncertain initial position. What we do know is that the $x$ and $y$ coordinate of the system are normally distributed according to\n",
        "\n",
        "$x_0 \\sim \\mathcal{N}(2.5,0.05)$\n",
        "\n",
        "$y_0 \\sim \\mathcal{N}(-3.5,0.055)$\n",
        "\n",
        "We will first prescribe a zonotope with 2 generators that most closely describes this multivariate Gaussian distribution in the 2 dimensional plane at a confidence interval of 90%.\n",
        "\n",
        "First, describe the two dimensional Gaussian distribution as an ellipse."
      ],
      "metadata": {
        "id": "SMAhAsqG6opz"
      }
    },
    {
      "cell_type": "code",
      "source": [
        "# hint: #https://www.visiondummy.com/2014/04/draw-error-ellipse-representing-covariance-matrix/\n",
        "Sigma = np.array([[],[]])\n",
        "Mu = np.array([])\n",
        "# round the chi^2 value for this scenario to two decimals!\n",
        "# https://people.richland.edu/james/lecture/m170/tbl-chi.html\n",
        "s = \n",
        "c0 = \n",
        "g0 = \n",
        "z0 = \n",
        "\n",
        "# some plotting\n",
        "fig, ax = plt.subplots()\n",
        "\n",
        "t = np.linspace(0, 2*math.pi, 100)\n",
        "ax.plot(Mu[0]+major_axis*np.cos(t), Mu[1]+minor_axis*np.sin(t))\n",
        "pp.visualize([z0], ax=ax, fig=fig)"
      ],
      "metadata": {
        "id": "zLoErGhw7_BN"
      },
      "execution_count": null,
      "outputs": []
    },
    {
      "cell_type": "markdown",
      "source": [
        "Now, let's take a step back and first generalize the results from the previous part into a function. Given some input data (see below), we want a function that returns the list of zonotopes. \n",
        "\n",
        "This mostly involves using the code from the previous part and turning it into a function, yet there is one caveat! We are not limited to a single bounded disturbance that acts similarly on all the states. For a 2D system, we might want to have a different bounded disturbance on one state and the other (e.g. wind disturbance). Make sure to take this into account!"
      ],
      "metadata": {
        "id": "aVkwg0gyEfRD"
      }
    },
    {
      "cell_type": "code",
      "source": [
        "def get_zonotopes(A,mu,c0,g0,t,r,color='g',simplify=False):\n",
        "\n",
        "  # where\n",
        "  # A: system matrix\n",
        "  # mu: bounded disturbance\n",
        "  # c0: initial condition\n",
        "  # g0: initial generators\n",
        "  # t: total simulation time\n",
        "  # r: duration of time-step\n",
        "  # color: the color of the zonotopes, helps distinguishing later on\n",
        "  # simplify: do we lower the order of the zonotopes? (already with 2 generators so not always necessary)\n",
        "\n",
        "  return zts # return the zonotopes\n"
      ],
      "metadata": {
        "id": "KdXnp99EPoqj"
      },
      "execution_count": null,
      "outputs": []
    },
    {
      "cell_type": "markdown",
      "source": [
        "Now let's call the function for the object and visualize our nominally stable trajectory! "
      ],
      "metadata": {
        "id": "EfwJy5nN_xo0"
      }
    },
    {
      "cell_type": "code",
      "source": [
        "# duration of simulation\n",
        "sim_duration = 4\n",
        "r = 0.075\n",
        "Ac = np.array([[1,-2],[2, -1]])\n",
        "mu = np.array([0.02,0.02])\n",
        "\n",
        "c0 = \n",
        "g0 = \n",
        "\n",
        "zts_obj = \n",
        "fig, ax = plt.subplots()\n",
        "pp.visualize(zts_obj, title='Zonotope Reachability of the Object', fig=fig, ax=ax)\n",
        "plt.show()\n"
      ],
      "metadata": {
        "id": "xjvkQXjU_zxC"
      },
      "execution_count": null,
      "outputs": []
    },
    {
      "cell_type": "markdown",
      "source": [
        "# The Robot!\n",
        "Our robot model is given by a similar 2D single-integrator system. As mentioned, this is of the form\n",
        "\n",
        "$ \\dot{x}(t) = A x(t) + B u(t) + d(t)$\n",
        "\n",
        "$ \\begin{bmatrix} \\dot{x} \\\\ \\dot{y} \\end{bmatrix} = \\begin{bmatrix} -1 & 1 \\\\ -1 & 1 \\end{bmatrix} \\begin{bmatrix} x \\\\ y \\end{bmatrix} + \\begin{bmatrix} 1 & 0 \\\\ 0 & 1 \\end{bmatrix} \\begin{bmatrix} u_x \\\\ u_y \\end{bmatrix} + d(t)$\n",
        "\n",
        "which can be written in the desired autonomous form when a state-feedback control policy is applied. Our state-feedback will be obtained via [LQR](https://en.wikipedia.org/wiki/Linear%E2%80%93quadratic_regulator) which gives us an appropriate state-feedback controller given certain weights on the state deviation and the control input.\n",
        "\n",
        "For our purposes, we wish to penalize both state-deviation and control input equally in the vertical and horizontal plane. In all situations, we do not penalize any cross-terms. For the state-deviation, we consider a weight of $50$ and for the control input a weight of $5$ respectively.\n",
        "\n",
        "Below, implement the system and weight matrices and obtain the LQR closed-loop stabilized system by solving the continuous-time algebraic Ricatti equation using the `scipy` package. We then plot the zonotopes of the object and the robot in a single plot (use the color argument in your `get_zonotopes()` function!)"
      ],
      "metadata": {
        "id": "n7SHQ4kYfn32"
      }
    },
    {
      "cell_type": "code",
      "source": [
        "#PUT YOUR CODE HERE\n",
        "A = \n",
        "B = \n",
        "Q = np.diag([50,50])\n",
        "R = np.diag([5,5])\n",
        "P = \n",
        "K = \n",
        "\n",
        "Ac = # closed-loop system\n",
        "\n",
        "mu = np.array([2.0,0.0])\n",
        "c0 = np.array([10,0])\n",
        "g0 = np.array([[0.3,0],[0,0.3]])\n",
        "\n",
        "zts_rob = \n",
        "\n",
        "fig, ax = plt.subplots()\n",
        "pp.visualize(np.append(zts_obj,zts_rob), fig=fig, ax=ax)\n",
        "plt.show()\n"
      ],
      "metadata": {
        "id": "_A6hZXSshBOk"
      },
      "execution_count": null,
      "outputs": []
    },
    {
      "cell_type": "markdown",
      "source": [
        "Here's an animation function which should give you some indication of what is actually going on:"
      ],
      "metadata": {
        "id": "hmHM6_tYsnGT"
      }
    },
    {
      "cell_type": "code",
      "source": [
        "## ANIMATION FUNCTION\n",
        "def animation_func(i,data):\n",
        "  zts_obj = data[0]\n",
        "  zts_rob = data[1]\n",
        "  pp.visualize([zts_obj[i]], fig=fig, ax=ax)\n",
        "  pp.visualize([zts_rob[i]], fig=fig, ax=ax)\n",
        "  ax.set_xlim([-7, 11])\n",
        "  ax.set_ylim([-7, 7])\n",
        "  \n",
        "fig = plt.figure()\n",
        "ax = fig.add_subplot(111)\n",
        "animation = FuncAnimation(fig,animation_func, fargs=((zts_obj,zts_rob),),\n",
        "                          frames=len(zts_obj), interval=50, blit=False)\n",
        "HTML(animation.to_html5_video())"
      ],
      "metadata": {
        "id": "nobwlnoPskyt"
      },
      "execution_count": null,
      "outputs": []
    },
    {
      "cell_type": "markdown",
      "source": [
        "# Collisions!\n",
        "\n",
        "Given the fact that we limit ourselves to zonotopes with two generators, we can do a simple collision check on two rectangles. This involves checking overlap with 4 conditions given the center and height and width (or edge points) of the rectangles. \n",
        "\n",
        "Implement this very simple rectangle collision checker in a function:"
      ],
      "metadata": {
        "id": "eQKZTsD612kB"
      }
    },
    {
      "cell_type": "code",
      "source": [
        "def simple_collision_check(zts_obj,zts_rob):\n",
        "  collision = False\n",
        "  # for ...:\n",
        "  #   collision = smth and smth else and smth else and smth else\n",
        "\n",
        "simple_collision_check(zts_obj,zts_rob)\n",
        "\n"
      ],
      "metadata": {
        "id": "nAvuZKdP1q3b"
      },
      "execution_count": null,
      "outputs": []
    },
    {
      "cell_type": "markdown",
      "source": [
        "However, this does not generalize to zonotopes with many more generators. A given is that regardless of how many generators a zonotope has, the shape is always convex! As such, we can check the collision via intersection of two convex polytopes which we will construct using shapely.geometry.Polygon.\n",
        "\n",
        "We could of course check intersection by methods that explicitly rely on zonotopes (e.g. [this](https://graphics.stanford.edu/~anguyen/papers/zonotope.pdf)). You're free to implement these methods, yet using the shapely library suffices for now. We are going to use it later on as well.\n",
        "\n",
        "Implement this more general collision checker in a function:"
      ],
      "metadata": {
        "id": "YAiRR72T2GU2"
      }
    },
    {
      "cell_type": "code",
      "source": [
        "def polygon_collision_check(zts_obj,zts_rob):\n",
        "  collision = False\n",
        "#   for ...:\n",
        "#     # 1: get the vertices from the zonotope\n",
        "#     # 2: convert the vertices into a shapely Polygon\n",
        "\n",
        "\n",
        "polygon_collision_check(zts_obj,zts_rob)\n"
      ],
      "metadata": {
        "id": "si6Tawxd1uqn"
      },
      "execution_count": null,
      "outputs": []
    },
    {
      "cell_type": "markdown",
      "source": [
        "Seems like we're not in collision then! However, we are currently having a severe oversight (you might have already noticed it yourself!). Due to the time-discretization, we are checking collisions at distinct instances in time. Whatever happens inbetween these instances, we do not know or consider!\n",
        "\n",
        "A straightforward, yet conservative, solution to this is to check collision for the convex hulls of the robot and the object of two discrete instances of time. Although we could use an off-the-shelf algorithm to find the convex hull of a set of points (originating from the points of the vertices of the two zonotopes), where's the fun in that? \n",
        "\n",
        "Instead, in this part, we will create our own convex-hull algorithm that returns a convex `shapely` polygon of a given set of points! A good starting point, and quite a straight-forward algorithm is the `Graham's scan algorithm`. Feel free, however, to use any algorithm you want! As long as it returns a convex `shapely` polygon!"
      ],
      "metadata": {
        "id": "L_iD_a_22fq8"
      }
    },
    {
      "cell_type": "code",
      "source": [
        "def graham_scan(pts): #(or whatever algorithm you want!)\n",
        "  #PUT YOUR CODE HERE\n",
        "  pts_of_polygon =\n",
        "  pts_sorted = \n",
        "  \n",
        "  return Polygon([[v[0],v[1]] for v in pts_of_polygon]), pts_sorted\n",
        "\n",
        "# where pts_sorted is all the points sorted before applying the left-turn, \n",
        "# right-turn check. This might help you with debugging purposes and allows you \n",
        "# to directly use the example below:\n",
        "\n",
        "# pts = np.array([[ 9.7       , -0.3       ],\n",
        "#                 [10.3       , -0.3       ],\n",
        "#                 [10.3       ,  0.3       ],\n",
        "#                 [ 9.7       ,  0.3       ],\n",
        "#                 [ 7.3019237 , -0.67042288],\n",
        "#                 [ 8.17008638, -0.67042288],\n",
        "#                 [ 8.17008638, -0.17500955],\n",
        "#                 [ 7.3019237 , -0.17500955],\n",
        "#                 [ 4.04093198, -1.63931786],\n",
        "#                 [ 4.7517695 , -1.63931786],\n",
        "#                 [ 4.7517695 , -1.10690099],\n",
        "#                 [ 4.04093198, -1.10690099],\n",
        "#                 [ 4.5013919 , -0.86892737],\n",
        "#                 [ 5.28560014, -0.86892737],\n",
        "#                 [ 5.28560014, -0.33356628],\n",
        "#                 [ 4.5013919 , -0.33356628]])\n",
        "\n",
        "poly,pts_sorted = graham_scan(pts)\n",
        "plt.scatter(pts_sorted[:,0],pts_sorted[:,1])\n",
        "for i in range(0,len(pts_sorted)):\n",
        "    plt.annotate(i,(pts_sorted[i,0],pts_sorted[i,1]))\n",
        "plt.plot(*poly.exterior.xy)\n",
        "plt.show()\n",
        "\n",
        "# feel free to use whatever algorithm you want. You might not obtain a sorted\n",
        "# sequence of points, so you might need to change the example a bit. pts_sorted\n",
        "# is not used in the remainder of this tutorial! A requirement is that you\n",
        "# code the algorithm yourself!!! Have a look at \n",
        "# https://en.wikipedia.org/wiki/Convex_hull_algorithms\n",
        "###"
      ],
      "metadata": {
        "id": "Rtm1RgMOl-go"
      },
      "execution_count": null,
      "outputs": []
    },
    {
      "cell_type": "markdown",
      "source": [
        "Implement this in a collision checker function:\n",
        "\n",
        "an additional requirement: plot the convex hulls in a figure, until a collision is detected!"
      ],
      "metadata": {
        "id": "aa6wLXSNmCsi"
      }
    },
    {
      "cell_type": "code",
      "source": [
        "def convex_hull_collision_check(zts_obj,zts_rob):\n",
        "  plt.figure()\n",
        "  plt.title(\"Convex hulls of object and robot up until collision\")\n",
        "  collision = False\n",
        "#   for ...:\n",
        "#     # 1: get the points of two instances of the object\n",
        "#     # 2: construct a convex polytope from that using the function from the\n",
        "#          previous exercise\n",
        "#     # 3: etc.\n",
        "\n",
        "    x,y = ply_obj.exterior.coords.xy\n",
        "    plt.plot(x,y,'g')\n",
        "    x,y = ply_rob.exterior.coords.xy\n",
        "    plt.plot(x,y,'r')\n",
        "\n",
        "convex_hull_collision_check(zts_obj,zts_rob)\n"
      ],
      "metadata": {
        "id": "LGSBfkMl3ODv"
      },
      "execution_count": null,
      "outputs": []
    },
    {
      "cell_type": "markdown",
      "source": [
        "Do you get a different answer?"
      ],
      "metadata": {
        "id": "d7_Fohbw3UXl"
      }
    },
    {
      "cell_type": "markdown",
      "source": [
        "# Collision! What to do now?\n",
        "What you have been doing so far is often referred to as $\\textit{verification}$ process since you are using the knowledge of your system to analyze whether some desired specification (do not collide with an obstacle) holds or not.\n",
        "\n",
        "In the next couple of steps, you're gonna look into the so called $\\textit{synthesis}$ process in which you are given a desired system specification and you design a control strategy $u$ such that the specification holds. Specifically, you're gonna design different Control Barrier Functions (CBFs) to guarantee that the robot stays within an obstacle-free safeset. CBFs have been covered in the lectures but if you would like to refresh your knowledge you might want to have a look at $\\href{https://ieeexplore.ieee.org/stamp/stamp.jsp?arnumber=8796030&casa_token=CtgTXVjMhTAAAAAA:93TomzH638Rg17rJl9LRW5WYljATBuiBor0OkfvSXwvZ-Y0rO-xkOhK15JBWIqrcIDgnqlEX}{this} $ publication."
      ],
      "metadata": {
        "id": "09hp9O3ICiSV"
      }
    },
    {
      "cell_type": "markdown",
      "source": [
        "# Simple yet provably safe controller\n",
        "First, we will design a very conservative barrier function. In this case, we would like to obtain a halfspace constraint that contains all possible obstacle locations. If we can design a controller that stays within this obstacle-free halfspace, we are guaranteed to avoid collisions.\n",
        "\n",
        "\n",
        "Such a halfspace can be defined as $\\mathcal{H} = \\left\\{ x \\in \\mathbb{R}^n \\mid a^T x \\leq b\\right\\}$. Recall, that any polygon can also be written as an intersection of halfspaces. Convince yourself that the convex hull of all obstacle location from $t=0, \\dots , T$ contains all possible locations the obstacle might be at. In the following, try to find this convex polygon and visualize it!"
      ],
      "metadata": {
        "id": "wQVc-vQpck3C"
      }
    },
    {
      "cell_type": "code",
      "source": [
        "# trajectory of the obstacle in V-form\n",
        "obj_trajectory = [pp.zonotope_to_V(zts_obj[i]).tolist()[j] for i in range(len(zts_obj)) for j in range(4)]\n",
        "\n",
        "# convex hull of obstacle trajectory\n",
        "conv_hull_obj = \n",
        "\n",
        "# Visualization\n",
        "x,y = conv_hull_obj.exterior.coords.xy\n",
        "\n",
        "pp.visualize(zts_obj)\n",
        "plt.plot(x,y,'g')\n",
        "plt.show()"
      ],
      "metadata": {
        "id": "nZIs8bSIfm0n"
      },
      "execution_count": null,
      "outputs": []
    },
    {
      "cell_type": "markdown",
      "source": [
        "Next, in order to define our barrier function, we need the convex hull of the obstacle trajectory in halfspace form (H-polytope). Unfortunatel, the function provided in `pypolycontain` does not work properly, so we have to do the conversion ourselves. Recall that each edge of the polytope between two consecutive vertices $V_i$ and $V_{i+1}$ can be described as a linear function of the form $a^T x - b = 0$.\n",
        "\n",
        "Note, that the convex hull has many vertices, so we would like to create a list of tuples that contains all the halfspaces $halfspaces = [(a_0, b_0), \\dots, (a_{N-1}, b_{N-1})]$ where $N$ is the number of vertices. Since it can be tideous to find the correct sign of the halfspaces, this function is provided in the following. Try to understand the code!"
      ],
      "metadata": {
        "id": "S9ugDqcbLwzW"
      }
    },
    {
      "cell_type": "code",
      "source": [
        "vertices = np.array([[x[i], y[i]] for i in range(len(x))])\n",
        "\n",
        "def construct_halfspaces(vertices_list):\n",
        "  halfspaces = []\n",
        "\n",
        "  for i in range(len(vertices_list)-1):\n",
        "    # vertex i\n",
        "    p1 = vertices[i]\n",
        "    # vertex i+1\n",
        "    p2 = vertices[i+1]\n",
        "\n",
        "    # change in x and y\n",
        "    dx = p2[0] - p1[0]\n",
        "    dy = (p2[1] - p1[1]) * np.sign(dx)\n",
        "\n",
        "    a = [- dy / abs(dx), 1]\n",
        "    b = a[0] * p1[0] + p1[1]\n",
        "    if dx < 0:\n",
        "      a = [-a[0], -a[1]]\n",
        "      b *= -1\n",
        "    halfspaces.append((a, b))\n",
        "\n",
        "  return halfspaces\n",
        "\n",
        "halfspaces = construct_halfspaces(vertices.tolist())\n",
        "\n",
        "# visualize all the halfspaces\n",
        "pp.visualize(zts_obj)\n",
        "plt.plot(x,y,'g')\n",
        "for ab in halfspaces:\n",
        "  plt.plot([-7, 7], [(ab[1] - ab[0][0] * (-7)) / ab[0][1], (ab[1] - ab[0][0] * (7)) / ab[0][1]], 'r')\n",
        "plt.show()\n"
      ],
      "metadata": {
        "id": "aaQM7vqbFpvO"
      },
      "execution_count": null,
      "outputs": []
    },
    {
      "cell_type": "markdown",
      "source": [
        "Now, any of these halfspaces could be used as a candidate CBF since the intersection of all halfspaces $\\mathcal{O} = \\left\\{x \\in \\mathbb{R}^n \\mid \\bigwedge_{i=0}^{N-1} a_i^T x \\leq b_i \\right\\}$ represents the obstacle region and, thus, if any of the halfspace constraints is violated, i.e. $\\bigvee_{i=0}^{N-1} a_i^T x \\geq b_i$, then the robot is outside of the obstacle region $\\mathcal{O}$.\n",
        "\n",
        "The question that remains is: Which one is the most suitable halfspace constraint? It's a design choice! We would like to obtain a halfspace that contains the initial position of the robot $x_0$ and allows us to get as close as possible to the goal $g = [0, 0]$. Hint: use the distance between a point and a line!"
      ],
      "metadata": {
        "id": "rprmY1JqRRrm"
      }
    },
    {
      "cell_type": "code",
      "source": [
        "# for ...:\n",
        "    # ...\n",
        "    # a_min =\n",
        "    # b_min =\n",
        "\n",
        "pp.visualize(zts_obj)\n",
        "plt.plot(x,y,'g')\n",
        "plt.plot([-7, 7], [(b_min - a_min[0] * (-7)) / a_min[1], (b_min - a_min[0] * (7)) / a_min[1]], 'r')\n",
        "plt.show()\n"
      ],
      "metadata": {
        "id": "Ap2n7h1wObYV"
      },
      "execution_count": null,
      "outputs": []
    },
    {
      "cell_type": "markdown",
      "source": [
        "Let's define our CBF! Remember, the safeset which we would like to render invariant (basically means if we are inside the set, we will remain in the set) is of the form\n",
        "\n",
        "$\\mathcal{C} = \\left\\{x \\in \\mathbb{R}^n \\mid h\\left(x, t\\right) \\geq 0 \\right\\}$\n",
        "\n",
        "where our barrier function $h$ might depend explicitly on time. In our first scenario, however, we generate a constant CBF so there won't be any time dependencies."
      ],
      "metadata": {
        "id": "Io7eH5xwUnLl"
      }
    },
    {
      "cell_type": "code",
      "source": [
        "h_static = lambda x, t:\n"
      ],
      "metadata": {
        "id": "2MKgnjXeVbvM"
      },
      "execution_count": null,
      "outputs": []
    },
    {
      "cell_type": "markdown",
      "source": [
        "## Control Synthesis!\n",
        "Now that we've defined our CBF, we need to synthesize control inputs $u$ which render $\\mathcal{C}$ invariant. Have a look at the lectures (or the linked paper) again and convince yourself that \n",
        "\n",
        "$\\dot{h}\\left(x, t\\right) \\geq - \\gamma h\\left(x, t\\right)$\n",
        "\n",
        "ensures invariance. By applying the chain rule to the above constraint, we can obtain an expression\n",
        "\n",
        "$\\dot{h}(x, t) = \\frac{\\partial h }{\\partial x} \\dot{x} + \\frac{\\partial h}{\\partial t} = \\frac{\\partial h }{\\partial x} (Ax + Bu + d) + \\frac{\\partial h}{\\partial t} \\geq h(x, t)$\n",
        "\n",
        "which is linear in the control input and, thus, this constraint can be included in convex optimization problems!\n",
        "\n",
        "Basically, what we want to do now is to develop a safety filter that takes as input a reference control input $u_{ref}$, e.g. the LQR control input, and outputs a safe control input that satisfies the safety constraint. Additionally, this modified control input should be as close as possible to the reference input so that the robot follows its reference controller and the safety filter only intervenes if we're about to violate the safety specification. This can be formulated as an optimization problem\n",
        "\n",
        "$$\n",
        "\\begin{aligned}\n",
        "\t\\min_{u} \\quad &(u - u_{ref})^T Q (u - u_{ref})\\\\\n",
        "\t\\textrm{s.t.  } \\quad  &\\frac{\\partial h }{\\partial x} (Ax + Bu + d) + \\frac{\\partial h}{\\partial t} \\geq - \\gamma h(x, t)\n",
        "    \\end{aligned}.\n",
        "$$\n",
        "\n",
        "which is a quadratic program (QP) and, thus, can be solved efficiently. For the following simulations simply assume that the robot disturbance is zero, i.e. $d=0$.\n",
        "\n",
        "In order to solve the optimization problem, we will make use of python convex optimization package `cvxopt`. Please have a look at $\\href{https://cvxopt.org/examples/tutorial/qp.html}{this} $ example of how to formulate and solve a QP in python. Hint: formulate the optimization using the decision variable $\\tilde{u} = u - u_{ref}$ which requires slight modification of the safety constraint."
      ],
      "metadata": {
        "id": "qVpFn_MvWCJh"
      }
    },
    {
      "cell_type": "code",
      "source": [
        "# Some imports for the CBF formulation\n",
        "from scipy.integrate import odeint\n",
        "from math import sin, cos, sqrt, atan2, pi\n",
        "from cvxopt import matrix, solvers"
      ],
      "metadata": {
        "id": "H40fBxndlm6I"
      },
      "execution_count": null,
      "outputs": []
    },
    {
      "cell_type": "markdown",
      "source": [
        "Let's define the function of the safety filter!"
      ],
      "metadata": {
        "id": "cCzvibnsls2n"
      }
    },
    {
      "cell_type": "code",
      "source": [
        "def safety_filter(x, h, t):\n",
        "    gamma = 10\n",
        "#     # reference control input\n",
        "#     u_ref = \n",
        "\n",
        "#     # Barrier condition dhdx * (f(x) + g(x) u) >= -h(x)\n",
        "#     dhdx = \n",
        "\n",
        "#     dhdt = \n",
        "\n",
        "\n",
        "#     # set up QP:\n",
        "#     Q = \n",
        "#     p = \n",
        "#     G = \n",
        "    \n",
        "#     t = \n",
        "\n",
        "#     solvers.options['show_progress'] = False\n",
        "#     sol = solvers.qp(Q, p, G, t)\n",
        "#     u_safe =\n",
        "\n",
        "\n",
        "    return u_safe \n"
      ],
      "metadata": {
        "id": "Zb0P9wmblrKn"
      },
      "execution_count": null,
      "outputs": []
    },
    {
      "cell_type": "markdown",
      "source": [
        "Now we're gonna run a simple simulation which should show that the static halfspace constraint is always satisfied. To do so, we need to define the closed loop system and call a differential equation solver!"
      ],
      "metadata": {
        "id": "ALSMGL712DNF"
      }
    },
    {
      "cell_type": "code",
      "source": [
        "def closed_loop_system(x, t):\n",
        "  # controller\n",
        "    return dx\n",
        "\n",
        "# Initial Conditions\n",
        "t_sim = np.linspace(0, sim_duration, 300)\n",
        "\n",
        "\n",
        "x_sol = odeint(closed_loop_system, c0, t_sim)\n",
        "\n",
        "fig, ax = plt.subplots()\n",
        "pp.visualize(zts_obj, fig=fig, ax=ax)\n",
        "plt.plot([-7, 7], [(b_min - a_min[0] * (-7)) / a_min[1], (b_min - a_min[0] * (7)) / a_min[1]], 'r')\n",
        "plt.plot(x,y,'g')\n",
        "plt.plot(x_sol[:, 0], x_sol[:, 1], 'b')\n",
        "plt.show()"
      ],
      "metadata": {
        "id": "2dqpXCT92Ksy"
      },
      "execution_count": null,
      "outputs": []
    },
    {
      "cell_type": "markdown",
      "source": [
        "## Let's see an animated version!\n",
        "It might take a while to visualize."
      ],
      "metadata": {
        "id": "IKyKRt1I8YZQ"
      }
    },
    {
      "cell_type": "code",
      "source": [
        "## ANIMATION FUNCTION\n",
        "def animation_func(i,data):\n",
        "  current_t = i * (sim_duration / len(t_sim))\n",
        "  zts_obj = data[0]\n",
        "  robot_pos = data[1]\n",
        "  pp.visualize([zts_obj[min(len(zts_obj)-1, int(np.floor(current_t / r)))]], fig=fig, ax=ax)\n",
        "  plt.plot(robot_pos[0:i, 0], robot_pos[0:i, 1], 'b')\n",
        "  ax.set_xlim([-7, 11])\n",
        "  ax.set_ylim([-7, 7])\n",
        "  \n",
        "fig = plt.figure()\n",
        "ax = fig.add_subplot(111)\n",
        "animation = FuncAnimation(fig,animation_func, fargs=((zts_obj,x_sol),),\n",
        "                          frames=len(t_sim)-1, interval=50, blit=False)\n",
        "HTML(animation.to_html5_video())"
      ],
      "metadata": {
        "id": "rCT9R2PO8Z_i"
      },
      "execution_count": null,
      "outputs": []
    },
    {
      "cell_type": "markdown",
      "source": [
        "## Safe? yes! Is it what we want? No..\n",
        "From this simulation we can observe that the robot indeed stays safe at all time, i.e. it does not collide with the dynamic obstacle. However, it is also rather conservative since the robot stays in the safe halfspace although the obstacle is far away. How can we change that? The key is to consider a timevarying control barrier function that changes whenever the obstacle is moving. In this section we will look into more sophisticated CBFs that will change over time. In this way, we will not only ensure safety but also ensure that our robot reaches its destination!\n",
        "\n",
        "One requirement of a valid CBF is that it's continuous in time and continuously differentiable with respect to $x$ and $t$. Since we only have the obstacle zonotopes at discrete time steps, we will use a simple linear time interpolation for the obstacle between time steps $t_k$ and $t_{k+1}$.\n",
        "\n",
        "The following function takes the current time as well as the list of discrete zonotopes and returns a polytope in vertex form (V_polytope) at the current time."
      ],
      "metadata": {
        "id": "iFtEvU8vEjSm"
      }
    },
    {
      "cell_type": "code",
      "source": [
        "def cont_time_obstacle(t, zonotopes_obst):\n",
        "  # Use simple linear interpolation\n",
        "  t_last =\n",
        "  t_next =\n",
        "  obst_last = \n",
        "  obst_next = \n",
        "  # obstacle at current time t as V-representation\n",
        "  obst_t = \n",
        "\n",
        "  return obst_t\n",
        "\n"
      ],
      "metadata": {
        "id": "2pxqRYIfFSeI"
      },
      "execution_count": null,
      "outputs": []
    },
    {
      "cell_type": "markdown",
      "source": [
        "Now we have a function to call that provides us with a polytope representation of the obstacle at any time. However, we still need to ensure that our robot is always outside of the polytope. There are different ways to ensure collision avoidance, e.g. taking the distance between a point and a polygon. However, this would be a nonsmooth measure in $x$ which is why we consider an overapproximating circle in the following."
      ],
      "metadata": {
        "id": "I2Hgk-YhAOjN"
      }
    },
    {
      "cell_type": "markdown",
      "source": [
        "Find the smallest circle that contains the entire polytope at time t!"
      ],
      "metadata": {
        "id": "iH0_HfTId5Nv"
      }
    },
    {
      "cell_type": "code",
      "source": [
        "def bounding_radius(t, zonotopes_obst):\n",
        "  # Use simple linear interpolation\n",
        "  ind = int(np.floor(t / r))\n",
        "  t0 = ind * r\n",
        "  t1 = (ind+1) * r\n",
        "  \n",
        "  # Zonotope centers\n",
        "  z_c0 = zonotopes_obst[min(ind, len(zts_obj)-1)].x\n",
        "  z_c1 = zonotopes_obst[min(ind+1, len(zts_obj)-1)].x\n",
        "\n",
        "\n",
        "  # center of zonotope at time t\n",
        "  z_c = z_c0 + ((z_c1 - z_c0) / (t1 - t0)) * (t - t0)\n",
        "\n",
        "  r_bound = \n",
        "\n",
        "  return z_c, r_bound\n",
        "\n",
        "# TEST\n",
        "print(bounding_radius(1, zts_obj))"
      ],
      "metadata": {
        "id": "sIpUssITeylZ"
      },
      "execution_count": null,
      "outputs": []
    },
    {
      "cell_type": "markdown",
      "source": [
        "Let's check if our bounding circle algorithm works properly!"
      ],
      "metadata": {
        "id": "OVn2jys6EqBH"
      }
    },
    {
      "cell_type": "code",
      "source": [
        "from matplotlib.patches import Circle\n",
        "\n",
        "fig, ax = plt.subplots()\n",
        "pp.visualize(zts_obj, fig=fig, ax=ax)\n",
        "for i in range(len(zts_obj)):\n",
        "  tnow = i * r\n",
        "  center, radius = bounding_radius(tnow, zts_obj)\n",
        "  ax.add_artist(Circle(center, radius, fill=False))\n",
        "plt.show()"
      ],
      "metadata": {
        "id": "nbbE_ErYlrgi"
      },
      "execution_count": null,
      "outputs": []
    },
    {
      "cell_type": "markdown",
      "source": [
        "In the case of a CBF that explicitly depends on time, we need to to account for the known change of the obstacle over time. In this case, the explicit CBF time derivative $\\frac{\\partial h}{\\partial t}$ is nonzero.\n",
        "\n",
        "However, since the explicit time dependency is not exactly known in our case (as a result of discrete reachibility analysis and time interpolation), we approximate the time derivative of the barrier function using finite differences. To be specific, we will use a simple forward difference method\n",
        "\n",
        "$\\frac{\\partial f}{\\partial t} (t) \\approx \\frac{f\\left(t + \\delta t\\right) - f\\left(t\\right)}{\\delta t}$.\n",
        "\n",
        "The CBF we consider is given as\n",
        "\n",
        "$h(x, t) = \\lVert x - c_{obs}(t) \\rVert_2 - r_{obs}(t) \\geq 0$\n",
        "\n",
        "In the following, write a function that returns the value of the CBF $h(x, t)$, its gradient $\\frac{\\partial h}{\\partial x}$ as well as its explicit time derivative $\\frac{\\partial h}{\\partial t}$. Hint: you need to apply the chain rule for the gradient and the time derivative. Approximate explicit time derivatives $\\frac{\\partial c_{obs}}{\\partial t}$ and $\\frac{\\partial r_{obs}}{\\partial t}$ using finite differences."
      ],
      "metadata": {
        "id": "-ak8mcl_gHDW"
      }
    },
    {
      "cell_type": "code",
      "source": [
        "def cbf_dynamic(x, t):\n",
        "  # Input: state defined as x = [x_robot, y_robot]\n",
        "  # Output: Value of CBF h(x), gradient with respect to x dhdx(x), explicit time derivative dhdt\n",
        "\n",
        "  return h_val, dhdx, dhdt\n",
        "\n",
        "\n",
        "#Test\n",
        "print(cbf_dynamic(c0, 0))"
      ],
      "metadata": {
        "id": "yfLxQhFOriMG"
      },
      "execution_count": null,
      "outputs": []
    },
    {
      "cell_type": "markdown",
      "source": [
        "Now, we will define the safety filter similarly to the safety filter using the static CBF. Set up the QP and run the continuous time simulation. What can you observe? Try different parameter settings for $\\gamma = [1, 10, 30]$. Also, plot the value of $h(x, t)$ over time for different values of $\\gamma$. What is the trade-off when choosing large values of $\\gamma$?"
      ],
      "metadata": {
        "id": "d2DjFs2aYj5e"
      }
    },
    {
      "cell_type": "code",
      "source": [
        "def safety_filter(x, t):\n",
        "  #PUT YOUR CODE HERE\n",
        "  return u_safe\n",
        "\n",
        "# closed loop dynamics including CBF controller\n",
        "def closed_loop_system(x, t):\n",
        "  #PUT YOUR CODE HERE\n",
        "  return dx\n",
        "\n",
        "# Initial Conditions\n",
        "t_sim = np.linspace(0, sim_duration, 300)\n",
        "\n",
        "x_sol = odeint(closed_loop_system, c0, t_sim)\n",
        "\n",
        "fig = plt.figure() \n",
        "ax = fig.add_subplot(121)\n",
        "pp.visualize(zts_obj, fig=fig, ax=ax)\n",
        "plt.plot(x_sol[:, 0], x_sol[:, 1], 'b')\n",
        "ax.set_xlim([-7, 11])\n",
        "ax.set_ylim([-7, 7])\n",
        "ax2 = fig.add_subplot(122)\n",
        "plt.plot(t_sim, [cbf_dynamic(x_sol[i], t_sim[i])[0] for i in range(len(t_sim))])\n",
        "plt.show()\n"
      ],
      "metadata": {
        "id": "4qF3R77Hoksj"
      },
      "execution_count": null,
      "outputs": []
    },
    {
      "cell_type": "markdown",
      "source": [
        "Lastly, we can see our robot in action! In this simulation section, you have been working on safe control synthesis in a reactive setting meaning that obstacle avoidance is guaranteed but it also could have been avoided at all if this problem would have been tackled at a higher level such as motion planning. Nonetheless, CBFs are an amazing tool for safety guarantees on a control level. There are many different topics that you could explore from here, e.g. robust CBFs, CBFs under uncertainties, CBFs for multi-agent systems, CBFs for safe reinforcement learning and many more!"
      ],
      "metadata": {
        "id": "3FryK6BhbBgs"
      }
    },
    {
      "cell_type": "code",
      "source": [
        "## ANIMATION FUNCTION\n",
        "def animation_func(i,data):\n",
        "  # visualize robot \n",
        "  robot_pos = data\n",
        "  plt.plot([robot_pos[k][0] for k in range(i)], [robot_pos[k][1] for k in range(i)], 'b')\n",
        "  \n",
        "  current_t = i * (sim_duration / len(t_sim))\n",
        "  \n",
        "  # visualize obstacle set\n",
        "  current_obs = cont_time_obstacle(current_t, zts_obj)\n",
        "  conv_hull_obj = MultiPoint(current_obs).convex_hull\n",
        "  x,y = conv_hull_obj.exterior.coords.xy\n",
        "  poly_plot.set_xdata(x)\n",
        "  poly_plot.set_ydata(y)\n",
        "\n",
        "  c_obs, r_obs = bounding_radius(current_t, zts_obj)\n",
        "  patch.center = c_obs\n",
        "  patch.radius = r_obs\n",
        "\n",
        "  ax.set_xlim([-7, 11])\n",
        "  ax.set_ylim([-7, 7])\n",
        "  \n",
        "fig = plt.figure()\n",
        "ax = fig.add_subplot(111)\n",
        "conv_hull_obj = MultiPoint(cont_time_obstacle(0, zts_obj)).convex_hull\n",
        "x,y = conv_hull_obj.exterior.coords.xy\n",
        "poly_plot, = plt.plot(x, y, 'g')\n",
        "plt.plot([c0[0]], [c0[1]], marker='o', markersize=4, c='r')\n",
        "\n",
        "# Visualize circle\n",
        "c_obs, r_obs = bounding_radius(0, zts_obj)\n",
        "patch = Circle(c_obs, r_obs, fill=False)\n",
        "ax.add_artist(patch)\n",
        "\n",
        "\n",
        "animation = FuncAnimation(fig,animation_func, fargs=((x_sol),),\n",
        "                          frames=len(x_sol), interval=50, blit=False)\n",
        "HTML(animation.to_html5_video())"
      ],
      "metadata": {
        "id": "2Ke7pWajgMwX"
      },
      "execution_count": null,
      "outputs": []
    }
  ]
}