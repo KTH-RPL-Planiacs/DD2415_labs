{
  "cells": [
    {
      "cell_type": "code",
      "execution_count": 1,
      "metadata": {
        "id": "siiK-4ShRMc5"
      },
      "outputs": [
        {
          "name": "stdout",
          "output_type": "stream",
          "text": [
            "Requirement already satisfied: pypolycontain in /home/joris/.local/lib/python3.8/site-packages (1.4)\n",
            "Note: you may need to restart the kernel to use updated packages.\n"
          ]
        },
        {
          "name": "stderr",
          "output_type": "stream",
          "text": [
            "/home/joris/.local/lib/python3.8/site-packages/pypolycontain/operations.py:23: UserWarning: You don't have pydrake installed properly. Methods that rely on optimization may fail.\n",
            "  warnings.warn(\"You don't have pydrake installed properly. Methods that rely on optimization may fail.\")\n",
            "/home/joris/.local/lib/python3.8/site-packages/pypolycontain/conversions.py:32: UserWarning: You don't have pydrake installed properly. Methods that rely on optimization may fail.\n",
            "  warnings.warn(\"You don't have pydrake installed properly. Methods that rely on optimization may fail.\")\n",
            "/home/joris/.local/lib/python3.8/site-packages/pypolycontain/conversions.py:38: UserWarning: You don't have pydrake with SCS solver.\n",
            "  warnings.warn(\"You don't have pydrake with SCS solver.\")\n",
            "/home/joris/.local/lib/python3.8/site-packages/pypolycontain/containment.py:38: UserWarning: You don't have pydrake installed properly. Methods that rely on optimization may fail.\n",
            "  warnings.warn(\"You don't have pydrake installed properly. Methods that rely on optimization may fail.\")\n",
            "/home/joris/.local/lib/python3.8/site-packages/pypolycontain/projection.py:34: UserWarning: You don't have pydrake installed properly. Methods that rely on optimization may fail.\n",
            "  warnings.warn(\"You don't have pydrake installed properly. Methods that rely on optimization may fail.\")\n"
          ]
        }
      ],
      "source": [
        "import numpy as np\n",
        "import matplotlib.pyplot as plt\n",
        "from scipy.linalg import expm, solve_continuous_are\n",
        "import math\n",
        "\n",
        "# the library requires \"optional\" dependencies not available in pip for almost all basic functions, \n",
        "# but plotting for zonotopes with a small amount of generators works fine.\n",
        "# Plotting Zonotopes is the only intended use in the tutorial!\n",
        "# https://citeseerx.ist.psu.edu/viewdoc/download?doi=10.1.1.488.5151&rep=rep1&type=pdf\n",
        "!pip install pypolycontain\n",
        "import pypolycontain as pp \n",
        "\n",
        "# shapely is used for collision checking. It might not necessarily refer to zonotopes\n",
        "# but we can always transfer\n",
        "# https://shapely.readthedocs.io/en/stable/manual.html\n",
        "from shapely.geometry import box, Polygon, MultiPoint\n",
        "\n",
        "# for the animations\n",
        "from matplotlib.animation import FuncAnimation\n",
        "from IPython.display import HTML"
      ]
    },
    {
      "cell_type": "markdown",
      "metadata": {
        "id": "Ydyz45miRRpy"
      },
      "source": [
        "# Safe Autonomy Tutorial: Reachability and object detection using zonotopes\n",
        "\n",
        "In this part of the tutorial, we will apply the findings of the previous tutorial to a collision-avoidance scenario! Given that we can now compute the permissible space of an autonomous system of the form \n",
        "\n",
        "$ \\dot{x}(t) = A x(t) + d(t) $\n",
        "\n",
        "were $d(t)$ is a bounded disturbance (in the previous tutorial $u(t)$), we can check the check the collision of two systems when propagated through time. \n",
        "As such, we will subject a nominally stable object and a controllable 'robot' of the form\n",
        "\n",
        "$ \\dot{x}(t) = A x(t) + B u(t) + d(t)$\n",
        "\n",
        "to a zonotope collision check. We will use LQR to stabilize the system subjected to our preferences!"
      ]
    },
    {
      "cell_type": "markdown",
      "metadata": {
        "id": "SMAhAsqG6opz"
      },
      "source": [
        "# The Object\n",
        "We consider a moving obstacle which might cause issues for the robot's planned trajectory. We consider the obstacle as a first order integrator system with an uncertain initial position, $\\mathcal{N}(\\mu,\\sigma^2)$. What we do know is that the $x$ and $y$ coordinate of the system are normally distributed according to\n",
        "\n",
        "$x_0 \\sim \\mathcal{N}(2.5,0.05)$\n",
        "\n",
        "$y_0 \\sim \\mathcal{N}(-3.5,0.055)$\n",
        "\n",
        "We will first prescribe a zonotope with 2 generators that most closely describes this multivariate Gaussian distribution in the 2 dimensional plane at a confidence interval of 90%.\n",
        "\n",
        "The true initial position distribution takes a specific shape (ellipse!). We then wish to find the generators that generate a rectangle zonotope that most closely captures this distribution at 90% confidence!\n",
        "\n",
        "Note that we wish to find the $z_p$ value that scales the standard deviation and captures the probability of laying inside a specific range of real numbers, centered at the mean $\\mu$ according to\n",
        "\n",
        "$ Pr[x \\in [\\mu-z_p \\sigma, \\mu+z_p \\sigma]] = p$\n",
        "\n",
        "Although **you should compute this $z_p$ value yourself**, to help you out, the value should be 1.64485."
      ]
    },
    {
      "cell_type": "code",
      "execution_count": null,
      "metadata": {
        "id": "zLoErGhw7_BN"
      },
      "outputs": [],
      "source": [
        "Sigma = \n",
        "Mu = \n",
        "\n",
        "# general equation of an ellipse: (x/a)^2 + (y/b)^2 = s\n",
        "\n",
        "# The probability of, from the positive domain w.r.t. mu,\n",
        "# being in the 90 percent confidence interval\n",
        "# https://en.wikipedia.org/wiki/Normal_distribution\n",
        "z = 1.64485\n",
        "\n",
        "major_axis = \n",
        "minor_axis = \n",
        "\n",
        "# find an enclosing 2D zonotope\n",
        "# https://mediatum.ub.tum.de/doc/1554653/365916.pdf\n",
        "c0 = \n",
        "g0 = \n",
        "z0 = \n",
        "\n",
        "# Plotting of the zonotope and the ellipse\n",
        "fig, ax = plt.subplots()\n"
      ]
    },
    {
      "cell_type": "markdown",
      "metadata": {
        "id": "aVkwg0gyEfRD"
      },
      "source": [
        "Now, let's take a step back and first generalize the results from the previous part into a function. Given some input data (see below), we want a function that returns the list of zonotopes. \n",
        "\n",
        "This mostly involves using the code from the previous part and turning it into a function."
      ]
    },
    {
      "cell_type": "code",
      "execution_count": null,
      "metadata": {
        "id": "KdXnp99EPoqj"
      },
      "outputs": [],
      "source": [
        "def get_zonotopes(A,mu,c0,g0,t,r,color='g',simplify=False):\n",
        "\n",
        "  # where\n",
        "  # A: system matrix\n",
        "  # mu: bounded disturbance\n",
        "  # c0: initial condition\n",
        "  # g0: initial generators\n",
        "  # t: total simulation time\n",
        "  # r: duration of time-step\n",
        "  # color: the color of the zonotopes, helps distinguishing later on\n",
        "  # simplify: do we lower the order of the zonotopes? (already with 2 generators so not always necessary)\n",
        "\n",
        "  return zts # return the zonotopes\n"
      ]
    },
    {
      "cell_type": "markdown",
      "metadata": {
        "id": "EfwJy5nN_xo0"
      },
      "source": [
        "Now let's call the function for the object and visualize our nominally stable trajectory! "
      ]
    },
    {
      "cell_type": "code",
      "execution_count": null,
      "metadata": {
        "id": "xjvkQXjU_zxC"
      },
      "outputs": [],
      "source": [
        "# duration of simulation\n",
        "sim_duration = 4\n",
        "r = 0.075\n",
        "Ac = np.array([[1,-2],[2, -1]])\n",
        "mu = 0.02 # note that this is the disturbance, not the mean\n",
        "\n",
        "c0 = \n",
        "g0 = \n",
        "\n",
        "zts_obj = \n",
        "fig, ax = plt.subplots()\n",
        "try:\n",
        "    pp.visualize(zts_obj, title='Zonotope Reachability of the Object', fig=fig, ax=ax)\n",
        "except:\n",
        "    pass\n",
        "plt.show()\n"
      ]
    },
    {
      "cell_type": "markdown",
      "metadata": {
        "id": "n7SHQ4kYfn32"
      },
      "source": [
        "# The Robot!\n",
        "Our robot model is given by a similar 2D single-integrator system. As mentioned, this is of the form\n",
        "\n",
        "$ \\dot{x}(t) = A x(t) + B u(t) + d(t)$\n",
        "\n",
        "$ \\begin{bmatrix} \\dot{x} \\\\ \\dot{y} \\end{bmatrix} = \\begin{bmatrix} -1 & 1 \\\\ -1 & 1 \\end{bmatrix} \\begin{bmatrix} x \\\\ y \\end{bmatrix} + \\begin{bmatrix} 1 & 0 \\\\ 0 & 1 \\end{bmatrix} \\begin{bmatrix} u_x \\\\ u_y \\end{bmatrix} + d(t)$\n",
        "\n",
        "which can be written in the desired autonomous form when a state-feedback control policy is applied. Our state-feedback will be obtained via [LQR](https://en.wikipedia.org/wiki/Linear%E2%80%93quadratic_regulator) which gives us an appropriate state-feedback controller given certain weights on the state deviation and the control input.\n",
        "\n",
        "For our purposes, we wish to penalize both state-deviation and control input equally in the vertical and horizontal plane. In all situations, we do not penalize any cross-terms. For the state-deviation, we consider a weight of $50$ and for the control input a weight of $5$ respectively.\n",
        "\n",
        "Below, implement the system and weight matrices and obtain the LQR closed-loop stabilized system by solving the continuous-time algebraic Ricatti equation using the `scipy` package. We then plot the zonotopes of the object and the robot in a single plot (use the color argument in your `get_zonotopes()` function!)\n",
        "\n",
        "## Some intuition\n",
        "While \"solving the ARE\" seems very arbitrary, the intuition is quite straightforward. Note that we have the optimization problem\n",
        "\n",
        "$ \\min(\\int_0^{\\infty} (x(t)^T Q x(t) + u(t)^T R u(t))dt )$\n",
        "\n",
        "s.t. $\\dot{x}(t) = Ax(t) + Bu(t)$\n",
        "\n",
        "It turns out that it is easy to solve this problem as we have a quadratic cost and a linear system! The relevant steps are that we first pick a positive definite symmetric matrix $P = P^T$ and add two terms to the cost that cancel eachother out\n",
        "\n",
        "$ x_0^T P x_0 - x_0^T P x_0 + \\int_0^{\\infty} (x(t)^T Q x(t) + u(t)^T R u(t))dt$\n",
        "\n",
        "for which we can take $-x_0^T P x_0$ into the integral sign. Notice that $\\frac{d}{dt}(x^T P x) = \\dot{x}^T P x + x^T P \\dot{x}$ and $\\dot{x}$ is something we already know! We get terms that depend on $u$, terms that depend on $x$, and terms that depend on both. The optimization of this unconstrained problem is significantly easier.\n",
        "\n",
        "LQR is a valuable control tool as\n",
        "- It considers an optimal trade-off between user specified system requirements\n",
        "- It has inherent robustness!\n",
        "- It has a strong theoretical foundation with an analytical solution!\n",
        "\n",
        "which makes it a powerful and elegant tool. We will see however, that it is not so simple to address elements commonly found in safe planning and control with pure LQR...\n",
        "\n"
      ]
    },
    {
      "cell_type": "code",
      "execution_count": null,
      "metadata": {
        "id": "_A6hZXSshBOk"
      },
      "outputs": [],
      "source": [
        "#PUT YOUR CODE HERE\n",
        "A = \n",
        "B = \n",
        "Q = np.diag([120,55])\n",
        "R = np.diag([5,5])\n",
        "P = \n",
        "K = \n",
        "\n",
        "Ac = # closed-loop system\n",
        "\n",
        "mu = 0.1\n",
        "c0 = np.array([10,1])\n",
        "g0 = np.array([[0.3,0],[0,0.3]])\n",
        "\n",
        "zts_rob = \n",
        "\n",
        "fig, ax = plt.subplots()\n",
        "try:\n",
        "    pp.visualize(np.append(zts_obj,zts_rob), fig=fig, ax=ax)\n",
        "except:\n",
        "    pass\n",
        "plt.show()\n"
      ]
    },
    {
      "cell_type": "markdown",
      "metadata": {
        "id": "hmHM6_tYsnGT"
      },
      "source": [
        "Here's an animation function which should give you some indication of what is actually going on:"
      ]
    },
    {
      "cell_type": "code",
      "execution_count": null,
      "metadata": {
        "id": "nobwlnoPskyt"
      },
      "outputs": [],
      "source": [
        "## ANIMATION FUNCTION\n",
        "def animation_func(i,data):\n",
        "  zts_obj = data[0]\n",
        "  zts_rob = data[1]\n",
        "  try:\n",
        "    pp.visualize([zts_obj[i]], fig=fig, ax=ax)\n",
        "  except:\n",
        "    pass\n",
        "  try:\n",
        "    pp.visualize([zts_rob[i]], fig=fig, ax=ax)\n",
        "  except:\n",
        "    pass\n",
        "  ax.set_xlim([-10, 11])\n",
        "  ax.set_ylim([-10, 10])\n",
        "  \n",
        "fig = plt.figure()\n",
        "ax = fig.add_subplot(111)\n",
        "animation = FuncAnimation(fig,animation_func, fargs=((zts_obj,zts_rob),),\n",
        "                          frames=len(zts_obj), interval=50, blit=False)\n",
        "HTML(animation.to_html5_video())"
      ]
    },
    {
      "cell_type": "markdown",
      "metadata": {
        "id": "eQKZTsD612kB"
      },
      "source": [
        "# Collisions!\n",
        "\n",
        "Given the fact that we limit ourselves to zonotopes with two generators, we can do a simple collision check on two rectangles. This involves checking overlap with 4 conditions given the center and height and width (or edge points) of the rectangles. \n",
        "\n",
        "Implement this very simple rectangle collision checker in a function:"
      ]
    },
    {
      "cell_type": "code",
      "execution_count": null,
      "metadata": {
        "id": "nAvuZKdP1q3b"
      },
      "outputs": [],
      "source": [
        "def simple_collision_check(zts_obj,zts_rob):\n",
        "  collision = False\n",
        "  # for ...:\n",
        "  #   collision = smth and smth else and smth else and smth else\n",
        "  # print whether a collision occured or not\n",
        "\n",
        "simple_collision_check(zts_obj,zts_rob)\n",
        "\n"
      ]
    },
    {
      "cell_type": "markdown",
      "metadata": {
        "id": "YAiRR72T2GU2"
      },
      "source": [
        "However, this does not generalize to zonotopes with many more generators. A given is that regardless of how many generators a zonotope has, the shape is always convex! As such, we can check the collision via intersection of two convex polytopes which we will construct using shapely.geometry.Polygon.\n",
        "\n",
        "We could of course check intersection by methods that explicitly rely on zonotopes (e.g. [this](https://graphics.stanford.edu/~anguyen/papers/zonotope.pdf)). You're free to implement these methods, yet using the shapely library suffices for now. We are going to use it later on as well.\n",
        "\n",
        "Implement this more general collision checker in a function:"
      ]
    },
    {
      "cell_type": "code",
      "execution_count": null,
      "metadata": {
        "id": "si6Tawxd1uqn"
      },
      "outputs": [],
      "source": [
        "def polygon_collision_check(zts_obj,zts_rob):\n",
        "  collision = False\n",
        "#   for ...:\n",
        "#     # 1: get the vertices from the zonotope\n",
        "#     # 2: convert the vertices into a shapely Polygon\n",
        "# print whether a collision occured or not\n",
        "\n",
        "polygon_collision_check(zts_obj,zts_rob)\n"
      ]
    },
    {
      "cell_type": "markdown",
      "metadata": {
        "id": "L_iD_a_22fq8"
      },
      "source": [
        "Seems like we're not in collision then! However, we are currently having a severe oversight (you might have already noticed it yourself!). Due to the time-discretization, we are checking collisions at distinct instances in time. Whatever happens inbetween these instances, we do not know or consider!\n",
        "\n",
        "A straightforward, yet conservative, solution to this is to check collision for the convex hulls of the robot and the object of two discrete instances of time. Although we could use an off-the-shelf algorithm to find the convex hull of a set of points (originating from the points of the vertices of the two zonotopes), where's the fun in that? \n",
        "\n",
        "Instead, in this part, we will create our own convex-hull algorithm that returns a convex `shapely` polygon of a given set of points! A good starting point, and quite a straight-forward algorithm is the `Graham's scan algorithm`. Feel free, however, to use any algorithm you want! As long as it returns a convex `shapely` polygon!"
      ]
    },
    {
      "cell_type": "code",
      "execution_count": null,
      "metadata": {
        "id": "Rtm1RgMOl-go"
      },
      "outputs": [],
      "source": [
        "def graham_scan(pts): #(or whatever algorithm you want!)\n",
        "  #PUT YOUR CODE HERE\n",
        "  pts_of_polygon =\n",
        "  pts_sorted = \n",
        "  \n",
        "  return Polygon([[v[0],v[1]] for v in pts_of_polygon]), pts_sorted\n",
        "\n",
        "# where pts_sorted is all the points sorted before applying the left-turn, \n",
        "# right-turn check. This might help you with debugging purposes and allows you \n",
        "# to directly use the example below:\n",
        "\n",
        "# pts = np.array([[ 9.7       , -0.3       ],\n",
        "#                 [10.3       , -0.3       ],\n",
        "#                 [10.3       ,  0.3       ],\n",
        "#                 [ 9.7       ,  0.3       ],\n",
        "#                 [ 7.3019237 , -0.67042288],\n",
        "#                 [ 8.17008638, -0.67042288],\n",
        "#                 [ 8.17008638, -0.17500955],\n",
        "#                 [ 7.3019237 , -0.17500955],\n",
        "#                 [ 4.04093198, -1.63931786],\n",
        "#                 [ 4.7517695 , -1.63931786],\n",
        "#                 [ 4.7517695 , -1.10690099],\n",
        "#                 [ 4.04093198, -1.10690099],\n",
        "#                 [ 4.5013919 , -0.86892737],\n",
        "#                 [ 5.28560014, -0.86892737],\n",
        "#                 [ 5.28560014, -0.33356628],\n",
        "#                 [ 4.5013919 , -0.33356628]])\n",
        "\n",
        "poly,pts_sorted = graham_scan(pts)\n",
        "plt.scatter(pts_sorted[:,0],pts_sorted[:,1])\n",
        "for i in range(0,len(pts_sorted)):\n",
        "    plt.annotate(i,(pts_sorted[i,0],pts_sorted[i,1]))\n",
        "plt.plot(*poly.exterior.xy)\n",
        "plt.show()\n",
        "\n",
        "# feel free to use whatever algorithm you want. You might not obtain a sorted\n",
        "# sequence of points, so you might need to change the example a bit. pts_sorted\n",
        "# is not used in the remainder of this tutorial! A requirement is that you\n",
        "# code the algorithm yourself!!! Have a look at \n",
        "# https://en.wikipedia.org/wiki/Convex_hull_algorithms\n",
        "###"
      ]
    },
    {
      "cell_type": "markdown",
      "metadata": {
        "id": "aa6wLXSNmCsi"
      },
      "source": [
        "Implement this in a collision checker function:\n",
        "\n",
        "an additional requirement: plot the convex hulls in a figure, until a collision is detected!"
      ]
    },
    {
      "cell_type": "code",
      "execution_count": null,
      "metadata": {
        "id": "LGSBfkMl3ODv"
      },
      "outputs": [],
      "source": [
        "def convex_hull_collision_check(zts_obj,zts_rob):\n",
        "  plt.figure()\n",
        "  plt.title(\"Convex hulls of object and robot up until collision\")\n",
        "  collision = False\n",
        "#   for ...:\n",
        "#     # 1: get the points of two instances of the object\n",
        "#     # 2: construct a convex polytope from that using the function from the\n",
        "#          previous exercise\n",
        "#     # 3: etc.\n",
        "\n",
        "# print whether a collision occured or not\n",
        "\n",
        "    x,y = ply_obj.exterior.coords.xy\n",
        "    plt.plot(x,y,'g')\n",
        "    x,y = ply_rob.exterior.coords.xy\n",
        "    plt.plot(x,y,'r')\n",
        "\n",
        "convex_hull_collision_check(zts_obj,zts_rob)\n"
      ]
    },
    {
      "cell_type": "markdown",
      "metadata": {
        "id": "d7_Fohbw3UXl"
      },
      "source": [
        "Do you get a different answer?"
      ]
    },
    {
      "cell_type": "markdown",
      "metadata": {
        "id": "09hp9O3ICiSV"
      },
      "source": [
        "# Collision! What to do now?\n",
        "What you have been doing so far is often referred to as $\\textit{verification}$ process since you are using the knowledge of your system to analyze whether some desired specification (do not collide with an obstacle) holds or not.\n",
        "\n",
        "In the next couple of steps, you're gonna look into the so called $\\textit{synthesis}$ process in which you are given a desired system specification and you design a control strategy $u$ such that the specification holds. Specifically, you're gonna design different Control Barrier Functions (CBFs) to guarantee that the robot stays within an obstacle-free safeset. CBFs have been covered in the lectures but if you would like to refresh your knowledge you might want to have a look at $\\href{https://ieeexplore.ieee.org/stamp/stamp.jsp?arnumber=8796030&casa_token=CtgTXVjMhTAAAAAA:93TomzH638Rg17rJl9LRW5WYljATBuiBor0OkfvSXwvZ-Y0rO-xkOhK15JBWIqrcIDgnqlEX}{this} $ publication."
      ]
    },
    {
      "cell_type": "markdown",
      "metadata": {
        "id": "wQVc-vQpck3C"
      },
      "source": [
        "# Simple yet provably safe controller\n",
        "First, we will design a very conservative barrier function. In this case, we would like to obtain a halfspace constraint that contains all possible obstacle locations. If we can design a controller that stays within this obstacle-free halfspace, we are guaranteed to avoid collisions.\n",
        "\n",
        "\n",
        "Such a halfspace can be defined as $\\mathcal{H} = \\left\\{ x \\in \\mathbb{R}^n \\mid a^T x \\leq b\\right\\}$. Recall, that any polygon can also be written as an intersection of halfspaces. Convince yourself that the convex hull of all obstacle location from $t=0, \\dots , T$ contains all possible locations the obstacle might be at. In the following, try to find this convex polygon and visualize it!"
      ]
    },
    {
      "cell_type": "code",
      "execution_count": null,
      "metadata": {
        "id": "nZIs8bSIfm0n"
      },
      "outputs": [],
      "source": [
        "# trajectory of the obstacle in V-form\n",
        "obj_trajectory = [pp.zonotope_to_V(zts_obj[i]).tolist()[j] for i in range(len(zts_obj)) for j in range(4)]\n",
        "\n",
        "# convex hull of obstacle trajectory\n",
        "conv_hull_obj = \n",
        "\n",
        "# Visualization\n",
        "x,y = conv_hull_obj.exterior.coords.xy\n",
        "\n",
        "try:\n",
        "    pp.visualize(zts_obj)\n",
        "except:\n",
        "    pass\n",
        "plt.plot(x,y,'g')\n",
        "plt.show()"
      ]
    },
    {
      "cell_type": "markdown",
      "metadata": {
        "id": "S9ugDqcbLwzW"
      },
      "source": [
        "Next, in order to define our barrier function, we need the convex hull of the obstacle trajectory in halfspace form (H-polytope). Unfortunatel, the function provided in `pypolycontain` does not work properly, so we have to do the conversion ourselves. Recall that each edge of the polytope between two consecutive vertices $V_i$ and $V_{i+1}$ can be described as a linear function of the form $a^T x - b = 0$.\n",
        "\n",
        "Note, that the convex hull has many vertices, so we would like to create a list of tuples that contains all the halfspaces $halfspaces = [(a_0, b_0), \\dots, (a_{N-1}, b_{N-1})]$ where $N$ is the number of vertices. Since it can be tideous to find the correct sign of the halfspaces, this function is provided in the following. Try to understand the code!"
      ]
    },
    {
      "cell_type": "code",
      "execution_count": null,
      "metadata": {
        "id": "aaQM7vqbFpvO"
      },
      "outputs": [],
      "source": [
        "vertices = np.array([[x[i], y[i]] for i in range(len(x))])\n",
        "\n",
        "def construct_halfspaces(vertices_list):\n",
        "  halfspaces = []\n",
        "\n",
        "  for i in range(len(vertices_list)-1):\n",
        "    # vertex i\n",
        "    p1 = vertices[i]\n",
        "    # vertex i+1\n",
        "    p2 = vertices[i+1]\n",
        "\n",
        "    # change in x and y\n",
        "    dx = p2[0] - p1[0]\n",
        "    dy = (p2[1] - p1[1]) * np.sign(dx)\n",
        "\n",
        "    a = [dy / abs(dx), -1]\n",
        "    b = a[0] * p1[0] + a[1] * p1[1]\n",
        "    if dx < 0:\n",
        "      a = [-a[0], -a[1]]\n",
        "      b *= -1\n",
        "    halfspaces.append((a, b))\n",
        "\n",
        "  return halfspaces\n",
        "\n",
        "halfspaces = construct_halfspaces(vertices.tolist())\n",
        "\n",
        "# visualize all the halfspaces\n",
        "try:\n",
        "  pp.visualize(zts_obj)\n",
        "except:\n",
        "  pass\n",
        "plt.plot(x,y,'g')\n",
        "for ab in halfspaces:\n",
        "  plt.plot([-10,10], [(ab[1] - ab[0][0] * (-10)) / ab[0][1], (ab[1] - ab[0][0] * (10)) / ab[0][1]], 'r')\n",
        "plt.show()\n"
      ]
    },
    {
      "cell_type": "markdown",
      "metadata": {
        "id": "rprmY1JqRRrm"
      },
      "source": [
        "Now, any of these halfspaces could be used as a candidate CBF since the intersection of all halfspaces $\\mathcal{O} = \\left\\{x \\in \\mathbb{R}^n \\mid \\bigwedge_{i=0}^{N-1} a_i^T x \\leq b_i \\right\\}$ represents the obstacle region and, thus, if any of the halfspace constraints is violated, i.e. $\\bigvee_{i=0}^{N-1} a_i^T x \\geq b_i$, then the robot is outside of the obstacle region $\\mathcal{O}$.\n",
        "\n",
        "The question that remains is: Which one is the most suitable halfspace constraint? It's a design choice! We would like to obtain a halfspace that contains the initial position of the robot $x_0$ and allows us to get as close as possible to the goal $g = [0, 0]$. Hint: use the distance between a point and a line!"
      ]
    },
    {
      "cell_type": "code",
      "execution_count": null,
      "metadata": {
        "id": "Ap2n7h1wObYV"
      },
      "outputs": [],
      "source": [
        "# for ...:\n",
        "    # ...\n",
        "    # a_min =\n",
        "    # b_min =\n",
        "\n",
        "try:\n",
        "    pp.visualize(zts_obj)\n",
        "except:\n",
        "    pass\n",
        "plt.plot(x,y,'g')\n",
        "plt.plot([-10,10], [(b_min - a_min[0] * (-10)) / a_min[1], (b_min - a_min[0] * (10)) / a_min[1]], 'r')\n",
        "plt.show()\n"
      ]
    },
    {
      "cell_type": "markdown",
      "metadata": {
        "id": "Io7eH5xwUnLl"
      },
      "source": [
        "Let's define our CBF! Remember, the safeset which we would like to render invariant (basically means if we are inside the set, we will remain in the set) is of the form\n",
        "\n",
        "$\\mathcal{C} = \\left\\{x \\in \\mathbb{R}^n \\mid h\\left(x, t\\right) \\geq 0 \\right\\}$\n",
        "\n",
        "where our barrier function $h$ might depend explicitly on time. In our first scenario, however, we generate a constant CBF so there won't be any time dependencies."
      ]
    },
    {
      "cell_type": "code",
      "execution_count": null,
      "metadata": {
        "id": "2MKgnjXeVbvM"
      },
      "outputs": [],
      "source": [
        "h_static = lambda x, t:\n"
      ]
    },
    {
      "cell_type": "markdown",
      "metadata": {
        "id": "qVpFn_MvWCJh"
      },
      "source": [
        "## Control Synthesis!\n",
        "Now that we've defined our CBF, we need to synthesize control inputs $u$ which render $\\mathcal{C}$ invariant. Have a look at the lectures (or the linked paper) again and convince yourself that \n",
        "\n",
        "$\\dot{h}\\left(x, t\\right) \\geq - \\gamma h\\left(x, t\\right)$\n",
        "\n",
        "ensures invariance. By applying the chain rule to the above constraint, we can obtain an expression\n",
        "\n",
        "$\\dot{h}(x, t) = \\frac{\\partial h }{\\partial x} \\dot{x} + \\frac{\\partial h}{\\partial t} = \\frac{\\partial h }{\\partial x} (Ax + Bu + d) + \\frac{\\partial h}{\\partial t} \\geq -\\gamma h(x, t)$\n",
        "\n",
        "which is linear in the control input and, thus, this constraint can be included in convex optimization problems!\n",
        "\n",
        "Basically, what we want to do now is to develop a safety filter that takes as input a reference control input $u_{ref}$, e.g. the LQR control input, and outputs a safe control input that satisfies the safety constraint. Additionally, this modified control input should be as close as possible to the reference input so that the robot follows its reference controller and the safety filter only intervenes if we're about to violate the safety specification. This can be formulated as an optimization problem\n",
        "\n",
        "$$\n",
        "\\begin{aligned}\n",
        "\t\\min_{u} \\quad &(u - u_{ref})^T Q (u - u_{ref})\\\\\n",
        "\t\\textrm{s.t.  } \\quad  &\\frac{\\partial h }{\\partial x} (Ax + Bu + d) + \\frac{\\partial h}{\\partial t} \\geq - \\gamma h(x, t)\n",
        "    \\end{aligned}.\n",
        "$$\n",
        "\n",
        "which is a quadratic program (QP) and, thus, can be solved efficiently. For the following simulations simply assume that the robot disturbance is zero, i.e. $d=0$.\n",
        "\n",
        "In order to solve the optimization problem, we will make use of python convex optimization package `cvxopt`. Please have a look at $\\href{https://cvxopt.org/examples/tutorial/qp.html}{this} $ example of how to formulate and solve a QP in python. Hint: formulate the optimization using the decision variable $\\tilde{u} = u - u_{ref}$ which requires slight modification of the safety constraint."
      ]
    },
    {
      "cell_type": "code",
      "execution_count": null,
      "metadata": {
        "id": "H40fBxndlm6I"
      },
      "outputs": [],
      "source": [
        "# Some imports for the CBF formulation\n",
        "from scipy.integrate import odeint\n",
        "from math import sin, cos, sqrt, atan2, pi\n",
        "from cvxopt import matrix, solvers"
      ]
    },
    {
      "cell_type": "markdown",
      "metadata": {
        "id": "cCzvibnsls2n"
      },
      "source": [
        "Let's define the function of the safety filter!"
      ]
    },
    {
      "cell_type": "code",
      "execution_count": null,
      "metadata": {
        "id": "Zb0P9wmblrKn"
      },
      "outputs": [],
      "source": [
        "def safety_filter(x, h, t):\n",
        "    gamma = 10\n",
        "#     # reference control input\n",
        "#     u_ref = \n",
        "\n",
        "#     # Barrier condition dhdx * (f(x) + g(x) u) >= -h(x)\n",
        "#     dhdx = \n",
        "\n",
        "#     dhdt = \n",
        "\n",
        "\n",
        "#     # set up QP:\n",
        "#     Q = \n",
        "#     p = \n",
        "#     G = \n",
        "    \n",
        "#     t = \n",
        "\n",
        "#     solvers.options['show_progress'] = False\n",
        "#     sol = solvers.qp(Q, p, G, t)\n",
        "#     u_safe =\n",
        "\n",
        "\n",
        "    return u_safe \n"
      ]
    },
    {
      "cell_type": "markdown",
      "metadata": {
        "id": "ALSMGL712DNF"
      },
      "source": [
        "Now we're gonna run a simple simulation which should show that the static halfspace constraint is always satisfied. To do so, we need to define the closed loop system and call a differential equation solver!"
      ]
    },
    {
      "cell_type": "code",
      "execution_count": null,
      "metadata": {
        "id": "2dqpXCT92Ksy"
      },
      "outputs": [],
      "source": [
        "def closed_loop_system(x, t):\n",
        "  # controller\n",
        "    return dx\n",
        "\n",
        "# Initial Conditions\n",
        "t_sim = np.linspace(0, sim_duration, 300)\n",
        "\n",
        "\n",
        "x_sol = odeint(closed_loop_system, c0, t_sim)\n",
        "\n",
        "fig, ax = plt.subplots()\n",
        "try:\n",
        "  pp.visualize(zts_obj, fig=fig, ax=ax)\n",
        "except:\n",
        "   pass\n",
        "plt.plot([-10,10], [(b_min - a_min[0] * (-10)) / a_min[1], (b_min - a_min[0] * (10)) / a_min[1]], 'r')\n",
        "plt.plot(x,y,'g')\n",
        "plt.plot(x_sol[:, 0], x_sol[:, 1], 'b')\n",
        "plt.show()"
      ]
    },
    {
      "cell_type": "markdown",
      "metadata": {
        "id": "IKyKRt1I8YZQ"
      },
      "source": [
        "## Let's see an animated version!\n",
        "It might take a while to visualize."
      ]
    },
    {
      "cell_type": "code",
      "execution_count": null,
      "metadata": {
        "id": "rCT9R2PO8Z_i"
      },
      "outputs": [],
      "source": [
        "## ANIMATION FUNCTION\n",
        "def animation_func(i,data):\n",
        "  current_t = i * (sim_duration / len(t_sim))\n",
        "  zts_obj = data[0]\n",
        "  robot_pos = data[1]\n",
        "  pp.visualize([zts_obj[min(len(zts_obj)-1, int(np.floor(current_t / r)))]], fig=fig, ax=ax)\n",
        "  plt.plot(robot_pos[0:i, 0], robot_pos[0:i, 1], 'b')\n",
        "  ax.set_xlim([-10, 11])\n",
        "  ax.set_ylim([-10, 10])\n",
        "  \n",
        "fig = plt.figure()\n",
        "ax = fig.add_subplot(111)\n",
        "animation = FuncAnimation(fig,animation_func, fargs=((zts_obj,x_sol),),\n",
        "                          frames=len(t_sim)-1, interval=50, blit=False)\n",
        "HTML(animation.to_html5_video())"
      ]
    },
    {
      "cell_type": "markdown",
      "metadata": {
        "id": "iFtEvU8vEjSm"
      },
      "source": [
        "## Safe? yes! Is it what we want? No..\n",
        "From this simulation we can observe that the robot indeed stays safe at all time, i.e. it does not collide with the dynamic obstacle. However, it is also rather conservative since the robot stays in the safe halfspace although the obstacle is far away. How can we change that? The key is to consider a timevarying control barrier function that changes whenever the obstacle is moving. In this section we will look into more sophisticated CBFs that will change over time. In this way, we will not only ensure safety but also ensure that our robot reaches its destination!\n",
        "\n",
        "One requirement of a valid CBF is that it's continuous in time and continuously differentiable with respect to $x$ and $t$. Since we only have the obstacle zonotopes at discrete time steps, we will use a simple linear time interpolation for the obstacle between time steps $t_k$ and $t_{k+1}$.\n",
        "\n",
        "The following function takes the current time as well as the list of discrete zonotopes and returns a polytope in vertex form (V_polytope) at the current time."
      ]
    },
    {
      "cell_type": "code",
      "execution_count": null,
      "metadata": {
        "id": "2pxqRYIfFSeI"
      },
      "outputs": [],
      "source": [
        "def cont_time_obstacle(t, zonotopes_obst):\n",
        "  # Use simple linear interpolation\n",
        "  t_last =\n",
        "  t_next =\n",
        "  obst_last = \n",
        "  obst_next = \n",
        "  # obstacle at current time t as V-representation\n",
        "  obst_t = \n",
        "\n",
        "  return obst_t\n",
        "\n"
      ]
    },
    {
      "cell_type": "markdown",
      "metadata": {
        "id": "I2Hgk-YhAOjN"
      },
      "source": [
        "Now we have a function to call that provides us with a polytope representation of the obstacle at any time. However, we still need to ensure that our robot is always outside of the polytope. There are different ways to ensure collision avoidance, e.g. taking the distance between a point and a polygon. However, this would be a nonsmooth measure in $x$ which is why we consider an overapproximating circle in the following."
      ]
    },
    {
      "cell_type": "markdown",
      "metadata": {
        "id": "iH0_HfTId5Nv"
      },
      "source": [
        "Find the smallest circle that contains the entire polytope at time t!"
      ]
    },
    {
      "cell_type": "code",
      "execution_count": null,
      "metadata": {
        "id": "sIpUssITeylZ"
      },
      "outputs": [],
      "source": [
        "def bounding_radius(t, zonotopes_obst):\n",
        "  # Use simple linear interpolation\n",
        "  ind = int(np.floor(t / r))\n",
        "  t0 = ind * r\n",
        "  t1 = (ind+1) * r\n",
        "  \n",
        "  # Zonotope centers\n",
        "  z_c0 = zonotopes_obst[min(ind, len(zts_obj)-1)].x\n",
        "  z_c1 = zonotopes_obst[min(ind+1, len(zts_obj)-1)].x\n",
        "\n",
        "\n",
        "  # center of zonotope at time t\n",
        "  z_c = z_c0 + ((z_c1 - z_c0) / (t1 - t0)) * (t - t0)\n",
        "\n",
        "  r_bound = \n",
        "\n",
        "  return z_c, r_bound\n",
        "\n",
        "# TEST\n",
        "print(bounding_radius(1, zts_obj))"
      ]
    },
    {
      "cell_type": "markdown",
      "metadata": {
        "id": "OVn2jys6EqBH"
      },
      "source": [
        "Let's check if our bounding circle algorithm works properly!"
      ]
    },
    {
      "cell_type": "code",
      "execution_count": null,
      "metadata": {
        "id": "nbbE_ErYlrgi"
      },
      "outputs": [],
      "source": [
        "from matplotlib.patches import Circle\n",
        "\n",
        "fig, ax = plt.subplots()\n",
        "try:\n",
        "  pp.visualize(zts_obj, fig=fig, ax=ax)\n",
        "except:\n",
        "  pass\n",
        "for i in range(len(zts_obj)):\n",
        "  tnow = i * r\n",
        "  center, radius = bounding_radius(tnow, zts_obj)\n",
        "  ax.add_artist(Circle(center, radius, fill=False))\n",
        "plt.show()"
      ]
    },
    {
      "cell_type": "markdown",
      "metadata": {
        "id": "-ak8mcl_gHDW"
      },
      "source": [
        "In the case of a CBF that explicitly depends on time, we need to to account for the known change of the obstacle over time. In this case, the explicit CBF time derivative $\\frac{\\partial h}{\\partial t}$ is nonzero.\n",
        "\n",
        "However, since the explicit time dependency is not exactly known in our case (as a result of discrete reachibility analysis and time interpolation), we approximate the time derivative of the barrier function using finite differences. To be specific, we will use a simple forward difference method\n",
        "\n",
        "$\\frac{\\partial f}{\\partial t} (t) \\approx \\frac{f\\left(t + \\delta t\\right) - f\\left(t\\right)}{\\delta t}$.\n",
        "\n",
        "The CBF we consider is given as\n",
        "\n",
        "$h(x, t) = \\lVert x - c_{obs}(t) \\rVert_2 - r_{obs}(t) \\geq 0$\n",
        "\n",
        "In the following, write a function that returns the value of the CBF $h(x, t)$, its gradient $\\frac{\\partial h}{\\partial x}$ as well as its explicit time derivative $\\frac{\\partial h}{\\partial t}$. Hint: you need to apply the chain rule for the gradient and the time derivative. Approximate explicit time derivatives $\\frac{\\partial c_{obs}}{\\partial t}$ and $\\frac{\\partial r_{obs}}{\\partial t}$ using finite differences."
      ]
    },
    {
      "cell_type": "code",
      "execution_count": null,
      "metadata": {
        "id": "yfLxQhFOriMG"
      },
      "outputs": [],
      "source": [
        "def cbf_dynamic(x, t):\n",
        "  # Input: state defined as x = [x_robot, y_robot]\n",
        "  # Output: Value of CBF h(x), gradient with respect to x dhdx(x), explicit time derivative dhdt\n",
        "\n",
        "  return h_val, dhdx, dhdt\n",
        "\n",
        "\n",
        "#Test\n",
        "print(cbf_dynamic(c0, 0))"
      ]
    },
    {
      "cell_type": "markdown",
      "metadata": {
        "id": "d2DjFs2aYj5e"
      },
      "source": [
        "Now, we will define the safety filter similarly to the safety filter using the static CBF. Set up the QP and run the continuous time simulation. What can you observe? Try different parameter settings for $\\gamma = [1, 10, 30]$. Also, plot the value of $h(x, t)$ over time for different values of $\\gamma$. What is the trade-off when choosing large values of $\\gamma$?"
      ]
    },
    {
      "cell_type": "code",
      "execution_count": null,
      "metadata": {
        "id": "4qF3R77Hoksj"
      },
      "outputs": [],
      "source": [
        "def safety_filter(x, t):\n",
        "  #PUT YOUR CODE HERE\n",
        "  return u_safe\n",
        "\n",
        "# closed loop dynamics including CBF controller\n",
        "def closed_loop_system(x, t):\n",
        "  #PUT YOUR CODE HERE\n",
        "  return dx\n",
        "\n",
        "# Initial Conditions\n",
        "t_sim = np.linspace(0, sim_duration, 300)\n",
        "\n",
        "x_sol = odeint(closed_loop_system, c0, t_sim)\n",
        "\n",
        "fig = plt.figure() \n",
        "ax = fig.add_subplot(121)\n",
        "try:\n",
        "  pp.visualize(zts_obj, fig=fig, ax=ax)\n",
        "except:\n",
        "  pass\n",
        "plt.plot(x_sol[:, 0], x_sol[:, 1], 'b')\n",
        "ax.set_xlim([-10, 11])\n",
        "ax.set_ylim([-10, 10])\n",
        "ax2 = fig.add_subplot(122)\n",
        "plt.plot(t_sim, [cbf_dynamic(x_sol[i], t_sim[i])[0] for i in range(len(t_sim))])\n",
        "plt.show()\n"
      ]
    },
    {
      "cell_type": "markdown",
      "metadata": {
        "id": "3FryK6BhbBgs"
      },
      "source": [
        "Lastly, we can see our robot in action! In this simulation section, you have been working on safe control synthesis in a reactive setting meaning that obstacle avoidance is guaranteed but it also could have been avoided at all if this problem would have been tackled at a higher level such as motion planning. Nonetheless, CBFs are an amazing tool for safety guarantees on a control level. There are many different topics that you could explore from here, e.g. robust CBFs, CBFs under uncertainties, CBFs for multi-agent systems, CBFs for safe reinforcement learning and many more!"
      ]
    },
    {
      "cell_type": "code",
      "execution_count": null,
      "metadata": {
        "id": "2Ke7pWajgMwX"
      },
      "outputs": [],
      "source": [
        "## ANIMATION FUNCTION\n",
        "def animation_func(i,data):\n",
        "  # visualize robot \n",
        "  robot_pos = data\n",
        "  plt.plot([robot_pos[k][0] for k in range(i)], [robot_pos[k][1] for k in range(i)], 'b')\n",
        "  \n",
        "  current_t = i * (sim_duration / len(t_sim))\n",
        "  \n",
        "  # visualize obstacle set\n",
        "  current_obs = cont_time_obstacle(current_t, zts_obj)\n",
        "  conv_hull_obj = MultiPoint(current_obs).convex_hull\n",
        "  x,y = conv_hull_obj.exterior.coords.xy\n",
        "  poly_plot.set_xdata(x)\n",
        "  poly_plot.set_ydata(y)\n",
        "\n",
        "  c_obs, r_obs = bounding_radius(current_t, zts_obj)\n",
        "  patch.center = c_obs\n",
        "  patch.radius = r_obs\n",
        "\n",
        "  ax.set_xlim([-10, 11])\n",
        "  ax.set_ylim([-10, 10])\n",
        "  \n",
        "fig = plt.figure()\n",
        "ax = fig.add_subplot(111)\n",
        "conv_hull_obj = MultiPoint(cont_time_obstacle(0, zts_obj)).convex_hull\n",
        "x,y = conv_hull_obj.exterior.coords.xy\n",
        "poly_plot, = plt.plot(x, y, 'g')\n",
        "plt.plot([c0[0]], [c0[1]], marker='o', markersize=4, c='r')\n",
        "\n",
        "# Visualize circle\n",
        "c_obs, r_obs = bounding_radius(0, zts_obj)\n",
        "patch = Circle(c_obs, r_obs, fill=False)\n",
        "ax.add_artist(patch)\n",
        "\n",
        "\n",
        "animation = FuncAnimation(fig,animation_func, fargs=((x_sol),),\n",
        "                          frames=len(x_sol), interval=50, blit=False)\n",
        "HTML(animation.to_html5_video())"
      ]
    }
  ],
  "metadata": {
    "colab": {
      "collapsed_sections": [],
      "provenance": []
    },
    "kernelspec": {
      "display_name": "Python 3.8.10 64-bit",
      "language": "python",
      "name": "python3"
    },
    "language_info": {
      "codemirror_mode": {
        "name": "ipython",
        "version": 3
      },
      "file_extension": ".py",
      "mimetype": "text/x-python",
      "name": "python",
      "nbconvert_exporter": "python",
      "pygments_lexer": "ipython3",
      "version": "3.8.10"
    },
    "vscode": {
      "interpreter": {
        "hash": "916dbcbb3f70747c44a77c7bcd40155683ae19c65e1c03b4aa3499c5328201f1"
      }
    }
  },
  "nbformat": 4,
  "nbformat_minor": 0
}
