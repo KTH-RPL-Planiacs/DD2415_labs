{
  "cells": [
    {
      "cell_type": "code",
      "execution_count": null,
      "id": "c4c5436b",
      "metadata": {
        "id": "c4c5436b"
      },
      "outputs": [],
      "source": [
        "# install dependencies\n",
        "!pip install casadi"
      ]
    },
    {
      "cell_type": "markdown",
      "id": "0fce8dca",
      "metadata": {
        "id": "0fce8dca"
      },
      "source": [
        "# Safe Autonomy Tutorial: Motion Planning\n",
        "\n",
        "In this tutorial, you will get familiar with different optimization-based motion planning techniques to obtain a collision-free trajectory for a dynamical system. We will reuse parts from the 0th tutorial, so you should be familiar the optimization problem formulation. The overall assignment is seperated into three parts:\n",
        "\n",
        "1.   E-Level: Optimization-based motion planning Intro\n",
        "2.   C-Level: Optimization-based motion planning in dynamic environments + Feedback motion primitive generation\n",
        "3.   A-Level: A*-based motion planning with feedback motion primitives\n",
        "\n"
      ]
    },
    {
      "cell_type": "code",
      "execution_count": null,
      "id": "df7c5adc",
      "metadata": {
        "id": "df7c5adc"
      },
      "outputs": [],
      "source": [
        "import numpy as np\n",
        "from math import *\n",
        "\n",
        "import matplotlib.pyplot as plt\n",
        "from matplotlib.patches import Polygon\n",
        "from matplotlib.collections import PatchCollection\n",
        "from copy import deepcopy, copy"
      ]
    },
    {
      "cell_type": "markdown",
      "id": "3d3d42dd",
      "metadata": {
        "id": "3d3d42dd"
      },
      "source": [
        "## Optimization-based Motion Planning: Static Obstacles\n",
        "\n",
        "The goal of this section is to find a dynamically feasible trajectory from an initial state to a goal state while optimizing a performance measure subject to obstacle avoidance constraints. The standard formulation of an optimization (or optimal control) problem can be formulated as\n",
        "\n",
        "$$\n",
        "\\begin{aligned}\n",
        "\t\\min_{\\mathbf{u}_{1:N-1}, \\mathbf{x}_{1:N}} \\quad &\\sum_{t=1}^{N} J(\\mathbf{x}_t, \\mathbf{u}_t)\\\\\n",
        "\t\\textrm{s.t.  } \\quad  &\\mathbf{x}_{t+1} = \\mathbf{f}\\left(\\mathbf{x}_t, \\mathbf{u}_t\\right) \\hspace{0.5cm} &&\\forall t = 1, \\cdots, N-1\\\\\n",
        "  &\\mathbf{x}_{t}  \\notin \\mathcal{X}_{obs} \\hspace{0.5cm} &&\\forall t = 1, \\cdots, N\\\\\n",
        "  & \\mathbf{u}_t \\in \\mathcal{U} &&\\forall t = 1, \\cdots, N-1\\\\\n",
        "\t& \\mathbf{x}_N \\in \\mathcal{X}_g, \\mathbf{x}_0 = \\mathbf{x}(t_0)\n",
        "    \\end{aligned}.\n",
        "$$\n",
        "where $J$ is the stage cost and $\\mathcal{X}_{obs}$ is the set of obstacle positions.\n",
        "\n",
        "First, we define the environment in which our robot (drone from 0th tutorial) is operating. This 2d environment consists of a number of polygon obstacle regions. A single convex polygon is given as a list of points."
      ]
    },
    {
      "cell_type": "code",
      "execution_count": null,
      "id": "394e5acf",
      "metadata": {
        "id": "394e5acf"
      },
      "outputs": [],
      "source": [
        "# Initial state of the robot\n",
        "x0 = [0.5, 0.5, 0.]\n",
        "\n",
        "# Goal state\n",
        "xG = [3., 2., 0.]\n",
        "\n",
        "# For collision checking we will overapproximate the robot with a circle of radius r\n",
        "r = 0.15\n",
        "\n",
        "# Define obstacles in the environment (Each obstacle is defined by a list of its vertex positions)\n",
        "obstacles = []\n",
        "obstacles.append([[1., 0.5], [1.2, 0.8], [1.6, 0.3]])\n",
        "obstacles.append([[0.6, 1.5], [0.4, 1.8], [1., 2.], [1., 1.6]])\n",
        "obstacles.append([[1.4, 1.4], [2., 1.8], [2.3, 1.5], [1.9, 1.3]])\n",
        "obstacles.append([[2.9, 1.3], [3.2, 1.7], [3.2, 0.9]])\n",
        "obstacles.append([[2.5, 0.2], [2.2, 0.5], [2.4, 0.8], [2.8, 0.6]])\n",
        "obstacles.append([[1.6, 2.5], [2., 2.9], [2.5, 2.4]])\n",
        "\n",
        "\n",
        "# Plot environment\n",
        "fig, ax = plt.subplots()\n",
        "\n",
        "patches = []\n",
        "for obs in obstacles:\n",
        "    p = Polygon(obs)\n",
        "    patches.append(p)\n",
        "    \n",
        "\n",
        "p_col = PatchCollection(patches, alpha=0.6)\n",
        "p_col.set_color([1, 0, 0])\n",
        "ax.add_collection(deepcopy(p_col))\n",
        "ax.plot([x0[0]], [x0[1]], marker='o', color=\"b\")\n",
        "ax.plot([xG[0]], [xG[1]], marker='*', color=\"g\", markersize=12)\n",
        "ax.set_xlim([0,3.5])\n",
        "ax.set_ylim([0,3])\n",
        "ax.set_xlabel(\"x in [m]\")\n",
        "ax.set_ylabel(\"y in [m]\")\n",
        "plt.show()\n"
      ]
    },
    {
      "cell_type": "markdown",
      "source": [
        "Typically, we distinguish between different optimization techniques such as gradient-based or sampling-based optimization. There are lots of different reasons why one approach is more suitable than the other one which depends heavily on the problem setting. In the following, we will focus on gradient-based approaches in which it is crucial to have smooth cost functions and constraints. If cost or constraint functions are nonsmooth, gradient-based approaches may fail as the gradient does not exist at discontinuities. In case you want to learn more about numerical optimization in general, I can recommend $\\href{https://web.stanford.edu/~boyd/cvxbook/bv_cvxbook.pdf}{this}$ (Convex Optimization) and $ \\href{https://algorithmsbook.com/optimization/files/optimization.pdf}{this}$ (Algorithms for Optimization) book.\n",
        "\n",
        "\n",
        "Ideally, to set up the optimization problem, we would like to say something like \"distance between robot and polygons greater than XX\". However, the distance function between a polygon and a point has a nonsmooth gradient which will complicate standart optimization techniques. Therefore, we will introduce a commonly used smooth approximation: Minimum Volume Enclosing Ellipsoids (MVEE). An ellipsoid can be described by\n",
        "\n",
        "\\begin{align}\n",
        "\\mathcal{E} = \\left\\{ \\mathbf{x} \\in \\mathbb{R}^n \\mid \\left(\\mathbf{x} - \\mathbf{c}\\right)^T \\mathbf{A} \\left(\\mathbf{x} - \\mathbf{c}\\right) \\leq 1\\right\\}\n",
        "\\end{align}\n",
        "where $\\mathbf{A} \\in \\mathbb{R}^{n \\times n}$ and $\\mathbf{c} \\in \\mathbb{R}^n$ is the center of the ellipsoid. There are a lot of different approaches to obtain the minimmum ellipse that contains a given polygon $\\mathcal{P}$. One of these approaches is implemented in the following, if you would like to read up on that, I would recommend Chapter 8.4.1 of \"Convex Optimization\".\n",
        "\n"
      ],
      "metadata": {
        "id": "YSpkOkYz0TX7"
      },
      "id": "YSpkOkYz0TX7"
    },
    {
      "cell_type": "code",
      "execution_count": null,
      "id": "1a3f0857",
      "metadata": {
        "id": "1a3f0857"
      },
      "outputs": [],
      "source": [
        "from matplotlib.patches import Ellipse\n",
        "\n",
        "# MVEE algorithm\n",
        "def mvee(points, tol=0.0001):\n",
        "    \"\"\"\n",
        "    Finds the ellipse equation in \"center form\"\n",
        "    (x-c).T * A * (x-c) = 1\n",
        "    \"\"\"\n",
        "    N, d = points.shape\n",
        "    Q = np.column_stack((points, np.ones(N))).T\n",
        "    err = tol+1.0\n",
        "    u = np.ones(N)/N\n",
        "    while err > tol:\n",
        "        X = np.dot(np.dot(Q, np.diag(u)), Q.T)\n",
        "        M = np.diag(np.dot(np.dot(Q.T, np.linalg.inv(X)), Q))\n",
        "        jdx = np.argmax(M)\n",
        "        step_size = (M[jdx]-d-1.0)/((d+1)*(M[jdx]-1.0))\n",
        "        new_u = (1-step_size)*u\n",
        "        new_u[jdx] += step_size\n",
        "        err = np.linalg.norm(new_u-u)\n",
        "        u = new_u\n",
        "    c = np.dot(u, points)\n",
        "    A = np.linalg.inv(np.dot(np.dot(points.T, np.diag(u)), points)\n",
        "               - np.multiply.outer(c, c))/d\n",
        "    return A, c\n",
        "\n",
        "# initialize list of ellipsoids [(A_1, c_1), ...]\n",
        "obstacle_ellipsoids = []\n",
        "\n",
        "for obs in obstacles:\n",
        "    A, c = mvee(np.array(obs))\n",
        "    obstacle_ellipsoids.append((A, c))\n",
        "\n",
        "\n",
        "# Visualize environment\n",
        "fig, ax = plt.subplots()\n",
        "\n",
        "ax.add_collection(deepcopy(p_col))\n",
        "\n",
        "ellipses = []\n",
        "for (A, c) in obstacle_ellipsoids:\n",
        "    # Eigendecomposition of A\n",
        "    Lambda, R = np.linalg.eig(A)\n",
        "    width = 2 * sqrt(1 / Lambda[0])\n",
        "    height = 2 * sqrt(1 / Lambda[1])\n",
        "    angle = atan2(R[1, 0], R[0, 0]) * 180 / pi\n",
        "    ellipse = Ellipse(c, width, height, angle=angle, facecolor='none')\n",
        "    ellipse.set_edgecolor([1, 0, 0])\n",
        "    ellipses.append(ellipse)\n",
        "    ax.add_artist(copy(ellipse))\n",
        "    \n",
        "\n",
        "ax.set_xlim([0,3.5])\n",
        "ax.set_ylim([0,3])\n",
        "ax.set_xlabel(\"x in [m]\")\n",
        "ax.set_ylabel(\"y in [m]\")\n",
        "plt.show()\n"
      ]
    },
    {
      "cell_type": "markdown",
      "id": "3bfcd8e7",
      "metadata": {
        "id": "3bfcd8e7"
      },
      "source": [
        "We will now focus on formulating our constraint $\\mathbf{x}_t \\notin \\mathcal{X}_{obs} \\forall t=0,\\dots,N$. Since MVEE's are strictly overapproximating the polygons $\\mathcal{P}$ it is true that $\\mathbf{x}_t \\notin \\bigcup_{i=1}^M \\mathcal{E} \\implies \\mathbf{x}_t \\notin \\mathcal{X}_{obs}$, where $M=6$ is the number of obstacles. However, in this formulation, we treat the robot as a point in 2D space which is not capturing the robot's volume. In this assignment, we approximate the robots collision box by a circle of radius $r$ and position $\\mathbf{x}$. \n",
        "\n",
        "Hence, in order to formulate proper obstacle avoidance constraints, we would like to obtain the enlarged ellipsoids $\\tilde{\\mathcal{E}}_i$ such that\n",
        "\\begin{align}\n",
        "\\mathbf{x}_t \\notin \\tilde{\\mathcal{E}}_i \\implies \\mathrm{dist}\\left(\\mathbf{x}_t, \\mathcal{E}\\right) \\geq r\n",
        "\\end{align}\n",
        "holds. The key ingredient to obtain the enlarged ellipses is to obtain the minkowski sum $\\tilde{\\mathcal{E}}_i = \\mathcal{E} \\bigoplus \\mathcal{B}_2(r)$ where $\\mathcal{B}_2(r)$ is a circle of radius $r$. In the following, create a list of tuples $enlarged_ellipses = [(\\tilde{\\mathbf{A}}_1, \\tilde{\\mathbf{c}}_1), \\dots, (\\tilde{\\mathbf{A}}_M, \\tilde{\\mathbf{c}}_M)]$ that contains the enlarged ellipses. Hint: Use an Eigendecomposition to obtain the ellipse equation in normal form $\\left(\\frac{x}{a}\\right)^2 + \\left(\\frac{y}{b}\\right)^2 = 1$ where $a, b$ are half the length of the major and minor axes."
      ]
    },
    {
      "cell_type": "code",
      "execution_count": null,
      "id": "3d9181e2",
      "metadata": {
        "id": "3d9181e2"
      },
      "outputs": [],
      "source": [
        "# radius robot\n",
        "r = 0.2\n",
        "\n",
        "# init empty lists\n",
        "enlarged_ellipses = []\n",
        "\n",
        "# PUT YOUR CODE HERE\n",
        "\n",
        "# generate plot objects\n",
        "enlarged_ellipses_patches = []\n",
        "for (A, c) in enlarged_ellipses:\n",
        "  Lambda, R = np.linalg.eig(A)\n",
        "  width = 2 * sqrt(1 / Lambda[0])\n",
        "  height = 2 * sqrt(1 / Lambda[1])\n",
        "  angle = atan2(R[1, 0], R[0, 0]) * 180 / pi\n",
        "  ellipse = Ellipse(c, width, height, angle=angle, facecolor='none')\n",
        "  ellipse.set_edgecolor([0, 0, 1])\n",
        "  enlarged_ellipses_patches.append(ellipse)\n",
        "    \n",
        "fig, ax = plt.subplots()\n",
        "\n",
        "for e_ in enlarged_ellipses_patches:\n",
        "    ax.add_artist(copy(e_))\n",
        "\n",
        "for e in ellipses:\n",
        "    ax.add_artist(copy(e))\n",
        "\n",
        "ax.add_collection(deepcopy(p_col))\n",
        "ax.set_xlim([0,3.5])\n",
        "ax.set_ylim([0,3])\n",
        "ax.set_xlabel(\"x in [m]\")\n",
        "ax.set_ylabel(\"y in [m]\")\n",
        "plt.show()\n"
      ]
    },
    {
      "cell_type": "markdown",
      "source": [
        "Now that we have obtained a smooth expression for collision checking with the obstacles based on just the robot position $\\mathbf{x}_t$, we can formulate our motion planning problem in `casadi`. Implement the optimization problem for a quadratic cost function of the form\n",
        "\\begin{align}\n",
        "J\\left(\\mathbf{x}_t, \\mathbf{u}_t\\right) = \\left(\\mathbf{x}_t - \\mathbf{x}_G\\right)^T \\mathbf{Q} \\left(\\mathbf{x}_t - \\mathbf{x}_G\\right) + \\mathbf{u}^T \\mathbf{R} \\mathbf{u}_t  \n",
        "\\end{align}\n",
        "for $\\mathbf{Q} = \\mathbf{I}_{3 \\times 3}$ and $\\mathbf{R} = \\mathrm{diag}([2, 2])$. The dynamics model is given by\n",
        "$$\n",
        "\\begin{bmatrix}\n",
        "    x_{k+1}\\\\\n",
        "    y_{k+1}\\\\\n",
        "    \\theta_{k+1}\n",
        "    \\end{bmatrix} = \\begin{bmatrix}\n",
        "    x_k - u_1 \\Delta t sin(\\theta)\\\\\n",
        "    y_k + u_1 \\Delta t cos(\\theta)\\\\\n",
        "     \\theta _k + u_2 \\Delta t\n",
        "\\end{bmatrix}.\n",
        "$$\n",
        "and the feasible control set is defined as $\\mathcal{U} = \\left\\{[u_1, u_2]^T \\in \\mathbb{R}^2 \\mid 0 \\leq u_1 \\leq 1\\right\\}$. Hint: Remember to use `casadi` functions for the trigonometric functions."
      ],
      "metadata": {
        "id": "ScHKlP5JKRAW"
      },
      "id": "ScHKlP5JKRAW"
    },
    {
      "cell_type": "code",
      "execution_count": null,
      "id": "ba9aefb7",
      "metadata": {
        "id": "ba9aefb7"
      },
      "outputs": [],
      "source": [
        "import casadi\n",
        "\n",
        "opti = casadi.Opti()\n",
        "\n",
        "# Trajectory length\n",
        "N = 100\n",
        "dt = 0.1\n",
        "\n",
        "# PUT YOUR CODE HERE"
      ]
    },
    {
      "cell_type": "markdown",
      "id": "71698acc",
      "metadata": {
        "id": "71698acc"
      },
      "source": [
        "After solving the optimization problem, we can visualize our results!"
      ]
    },
    {
      "cell_type": "code",
      "execution_count": null,
      "id": "b534b4b8",
      "metadata": {
        "id": "b534b4b8"
      },
      "outputs": [],
      "source": [
        "import matplotlib.pyplot as plt\n",
        "fig = plt.figure()\n",
        "ax1 = fig.add_subplot(111)\n",
        "ax1.plot(traj[0, :], traj[1, :], marker='o')\n",
        "\n",
        "for e_ in enlarged_ellipses_patches:\n",
        "    ax1.add_artist(copy(e_))\n",
        "\n",
        "for e in ellipses:\n",
        "    ax1.add_artist(copy(e))\n",
        "      \n",
        "\n",
        "ax1.add_collection(copy(p_col))\n",
        "ax1.set_xlim([0,3.5])\n",
        "ax1.set_ylim([0,3])\n",
        "plt.show()\n",
        "\n",
        "ax1.set_xlabel(\"x in [m]\")\n",
        "ax1.set_ylabel(\"y in [m]\")\n",
        "\n",
        "\n",
        "plt.show()\n"
      ]
    },
    {
      "cell_type": "markdown",
      "source": [
        "**Aaand also animate!**"
      ],
      "metadata": {
        "id": "6mt6S2L-OAMu"
      },
      "id": "6mt6S2L-OAMu"
    },
    {
      "cell_type": "code",
      "execution_count": null,
      "id": "684ad270",
      "metadata": {
        "id": "684ad270"
      },
      "outputs": [],
      "source": [
        "%matplotlib inline\n",
        "%matplotlib notebook\n",
        "%matplotlib notebook\n",
        "from matplotlib.animation import FuncAnimation\n",
        "from IPython.display import HTML\n",
        "from math import *\n",
        "\n",
        "def animation_func(i, data):\n",
        "    x = data[0]\n",
        "    y = data[1]\n",
        "    theta = data[2]\n",
        "    # Drone dimension: width l\n",
        "    l = 0.3\n",
        "    p1 = [x[i] + cos(theta[i]) * l/2, y[i] + sin(theta[i]) * l/2]\n",
        "    p2 = [x[i] - cos(theta[i]) * l/2, y[i] - sin(theta[i]) * l/2]\n",
        "    line1.set_xdata([p1[0], p2[0]])\n",
        "    line1.set_ydata([p1[1], p2[1]])\n",
        "    # Plot trajectory\n",
        "    pt, = ax.plot([x[i]], [y[i]], \"g.\", markersize=1)\n",
        "\n",
        "    ax.add_collection(deepcopy(p_col))\n",
        "    \n",
        "    return line1, pt\n",
        "\n",
        "fig = plt.figure(figsize=(7,5))\n",
        "ax = fig.add_subplot(111)\n",
        "ax.set_xlim([0., 4.])\n",
        "ax.set_ylim([0., 4.])\n",
        "line1, = ax.plot([x0[0]-0.15, x0[0] + 0.15], [0., 0.], 'ko-', lw=1.5, markersize=5)\n",
        "\n",
        "x_data = traj[0, :]\n",
        "y_data = traj[1, :]\n",
        "theta_data = traj[2, :]\n",
        "animation = FuncAnimation(fig, animation_func, fargs=((x_data, y_data, theta_data),),  \n",
        "                          frames=N, interval=50, blit=True)\n",
        "# plt.show()\n",
        "HTML(animation.to_html5_video())"
      ]
    },
    {
      "cell_type": "markdown",
      "id": "c5d94e00",
      "metadata": {
        "id": "c5d94e00"
      },
      "source": [
        "## Optimization-based Motion Planning: Dynamic Obstacles\n",
        "Now we will start with moving obstacles! In this case we will assume that the obstacles start in the previous configuration and have a constant velocity in one direction. In the following, create a list of the obstacles at each timestep $t = 0, \\dots, N$."
      ]
    },
    {
      "cell_type": "code",
      "execution_count": null,
      "id": "54ffbecf",
      "metadata": {
        "id": "54ffbecf"
      },
      "outputs": [],
      "source": [
        "%matplotlib inline\n",
        "%matplotlib notebook\n",
        "%matplotlib notebook\n",
        "\n",
        "# velocity vectors in xy-plane\n",
        "velocity_dirs = [[1., 0.], [1., 0.4], [0.4, -1.], [-1, 0.5], [-0.1, 1.], [1., 0.2]]\n",
        "\n",
        "# velocity magnitudes\n",
        "velocities = [0.1, 0.15, 0.1, 0.4, 0.3, 0.05]\n",
        "\n",
        "# list of obstacles at each timestep\n",
        "timed_obstacles = []\n",
        "timed_obstacles.append(deepcopy(obstacles))\n",
        "\n",
        "for k in range(1, N):\n",
        "    # PUT YOUR CODE HERE\n",
        "\n",
        "\n",
        "def animation_obstacles(i):\n",
        "    for j, p in enumerate(moving_patches):\n",
        "        new_pos = np.append(timed_obstacles[i][j], [timed_obstacles[i][j][0]], axis=0)\n",
        "        p.set_xy(new_pos)\n",
        "    \n",
        "    return moving_patches,\n",
        "\n",
        "\n",
        "fig = plt.figure(figsize=(7,5))\n",
        "ax = fig.add_subplot(111)\n",
        "ax.set_xlim([0., 4.])\n",
        "ax.set_ylim([0., 4.])\n",
        "\n",
        "moving_patches = []\n",
        "for p in patches:\n",
        "  moving_patches.append(Polygon(p.get_xy()))\n",
        "\n",
        "for p in moving_patches:\n",
        "    p.set_color([1, 0, 0])\n",
        "    ax.add_patch(p)\n",
        "\n",
        "animation = FuncAnimation(fig, animation_obstacles, frames=N, interval=50, blit=True)\n",
        "\n",
        "HTML(animation.to_html5_video())"
      ]
    },
    {
      "cell_type": "markdown",
      "source": [
        "To use the same constraint formulations as before, we need the ellipsoidal overapproximations over time!"
      ],
      "metadata": {
        "id": "NHZieQBtP6ye"
      },
      "id": "NHZieQBtP6ye"
    },
    {
      "cell_type": "code",
      "execution_count": null,
      "id": "55274eb5",
      "metadata": {
        "id": "55274eb5"
      },
      "outputs": [],
      "source": [
        "%matplotlib inline\n",
        "%matplotlib notebook\n",
        "%matplotlib notebook\n",
        "\n",
        "\n",
        "# list of list of ellipses at each time step\n",
        "timed_ellipses = []\n",
        "\n",
        "# PUT YOUR CODE HERE\n",
        "    \n",
        "\n",
        "# Animations\n",
        "def animation_ellipses(i):\n",
        "    for j, p in enumerate(moving_patches):\n",
        "        new_pos = np.append(timed_obstacles[i][j], [timed_obstacles[i][j][0]], axis=0)\n",
        "        p.set_xy(new_pos)\n",
        "    \n",
        "    for j, e in enumerate(moving_ellipses):\n",
        "        e.set_center(timed_ellipses[i][j][1])\n",
        "    \n",
        "    return moving_patches, moving_ellipses,\n",
        "\n",
        "\n",
        "fig = plt.figure(figsize=(7,5))\n",
        "ax = fig.add_subplot(111)\n",
        "ax.set_xlim([0., 4.])\n",
        "ax.set_ylim([0., 4.])\n",
        "\n",
        "# moving_patches = copy(patches)\n",
        "moving_patches = []\n",
        "for p in patches:\n",
        "  moving_patches.append(Polygon(p.get_xy()))\n",
        "# moving_ellipses = copy(enlarged_ellipses_patches\n",
        "moving_ellipses = []\n",
        "for e in enlarged_ellipses_patches:\n",
        "  moving_ellipses.append(Ellipse(e.get_center(), e.width, e.height, angle=e.angle, facecolor='none'))\n",
        "\n",
        "for p in moving_patches:\n",
        "    p.set_color([1, 0, 0])\n",
        "    ax.add_patch(p)\n",
        "    \n",
        "for e in moving_ellipses:\n",
        "    e.set_edgecolor([0, 0, 1])\n",
        "    ax.add_artist(e)\n",
        "\n",
        "animation = FuncAnimation(fig, animation_ellipses, frames=N, interval=50, blit=True)\n",
        "\n",
        "# plt.show()\n",
        "HTML(animation.to_html5_video())"
      ]
    },
    {
      "cell_type": "markdown",
      "source": [
        "**We're almost there!** Formulate the optimization problem in the case of moving obstacles!"
      ],
      "metadata": {
        "id": "--5DlcOdQhp7"
      },
      "id": "--5DlcOdQhp7"
    },
    {
      "cell_type": "code",
      "execution_count": null,
      "id": "75a7aa00",
      "metadata": {
        "id": "75a7aa00"
      },
      "outputs": [],
      "source": [
        "#PUT YOUR CODE HERE"
      ]
    },
    {
      "cell_type": "markdown",
      "source": [
        "Visualization of the obtained trajectory."
      ],
      "metadata": {
        "id": "YS53HD7aO_kw"
      },
      "id": "YS53HD7aO_kw"
    },
    {
      "cell_type": "code",
      "source": [
        "%matplotlib inline\n",
        "%matplotlib notebook\n",
        "%matplotlib notebook\n",
        "from matplotlib.animation import FuncAnimation\n",
        "from IPython.display import HTML\n",
        "from math import *\n",
        "\n",
        "def animation_func(i, data):\n",
        "    x = data[0]\n",
        "    y = data[1]\n",
        "    theta = data[2]\n",
        "    # Drone dimension: width l\n",
        "    l = 0.3\n",
        "    p1 = [x[i] + cos(theta[i]) * l/2, y[i] + sin(theta[i]) * l/2]\n",
        "    p2 = [x[i] - cos(theta[i]) * l/2, y[i] - sin(theta[i]) * l/2]\n",
        "    line1.set_xdata([p1[0], p2[0]])\n",
        "    line1.set_ydata([p1[1], p2[1]])\n",
        "    # Plot trajectory\n",
        "    pt, = ax.plot([x[i]], [y[i]], \"g.\", markersize=1)\n",
        "\n",
        "    for j, p in enumerate(moving_patches):\n",
        "        new_pos = np.append(timed_obstacles[i][j], [timed_obstacles[i][j][0]], axis=0)\n",
        "        p.set_xy(new_pos)\n",
        "    \n",
        "    return line1, pt, moving_patches,\n",
        "\n",
        "fig = plt.figure(figsize=(7,5))\n",
        "ax = fig.add_subplot(111)\n",
        "ax.set_xlim([0., 4.])\n",
        "ax.set_ylim([0., 4.])\n",
        "line1, = ax.plot([x0[0]-0.15, x0[0] + 0.15], [0., 0.], 'ko-', lw=1.5, markersize=5)\n",
        "\n",
        "moving_patches = []\n",
        "for p in patches:\n",
        "  moving_patches.append(Polygon(p.get_xy()))\n",
        "\n",
        "for p in moving_patches:\n",
        "    p.set_color([1, 0, 0])\n",
        "    ax.add_patch(p)\n",
        "\n",
        "x_data = traj[0, :]\n",
        "y_data = traj[1, :]\n",
        "theta_data = traj[2, :]\n",
        "animation = FuncAnimation(fig, animation_func, fargs=((x_data, y_data, theta_data),),  \n",
        "                          frames=N, interval=50, blit=True)\n",
        "# plt.show()\n",
        "HTML(animation.to_html5_video())"
      ],
      "metadata": {
        "id": "-NPFOeh5AWu7"
      },
      "id": "-NPFOeh5AWu7",
      "execution_count": null,
      "outputs": []
    },
    {
      "cell_type": "markdown",
      "source": [
        "# What if we have uncertainties such as initial positions? Feedback Motion Primitives!\n",
        "\n",
        "In the previous setting, we have found an open loop trajectory for our robot. When applying this to a real robot it will most likely fail if we do not use a tracking controller to account for small deviations from the reference trajectory.\n",
        "\n",
        "However, if we deviate from the reference trajectory, we are not ensured anymore that the robot will move on a collision-free trajectory. So in safety-critical applications, it is important to consider safety on different levels of the planning hierarchy (motion planning, control) in order to make our robots more robust. \n",
        "\n",
        "In this section, we will look into Feedback motion primitives to ensure safety even if the reference trajectory cannot be tracked accurately."
      ],
      "metadata": {
        "id": "aXpyScV27mbF"
      },
      "id": "aXpyScV27mbF"
    },
    {
      "cell_type": "code",
      "source": [
        "!pip install pypolycontain\n",
        "import pypolycontain as pp \n",
        "\n",
        "# shapely is used for collision checking. It might not necessarily refer to zonotopes\n",
        "# but we can always transfer\n",
        "# https://shapely.readthedocs.io/en/stable/manual.html\n",
        "from shapely.geometry import box, MultiPoint\n",
        "from shapely.geometry import Polygon as Poly\n",
        "\n",
        "import matplotlib.pyplot as plt\n",
        "from matplotlib.patches import Polygon\n",
        "from matplotlib.collections import PatchCollection\n",
        "from copy import deepcopy, copy\n",
        "from math import *\n",
        "\n",
        "import numpy as np\n",
        "\n",
        "# for the animations\n",
        "from matplotlib.animation import FuncAnimation\n",
        "from IPython.display import HTML"
      ],
      "metadata": {
        "id": "JKtJSkBm9OD_"
      },
      "id": "JKtJSkBm9OD_",
      "execution_count": null,
      "outputs": []
    },
    {
      "cell_type": "markdown",
      "source": [
        "We first use our well-known dynamics model to be able to simulate our system."
      ],
      "metadata": {
        "id": "K9zUhuYZ9UtE"
      },
      "id": "K9zUhuYZ9UtE"
    },
    {
      "cell_type": "code",
      "source": [
        "def dynamics(x, u):\n",
        "    \"\"\"\n",
        "    Inputs: current state of the system x, control input u\n",
        "    Output: derivative of the state vector\n",
        "    \"\"\"\n",
        "    dx = np.array([- u[:, 0] * np.sin(x[:, 2]), u[:, 0] * np.cos(x[:, 2]), u[:, 1]]).T\n",
        "    return dx\n",
        "\n",
        "\n",
        "def discrete_dynamics(x, u):\n",
        "    \"\"\"\n",
        "    Inputs: current state of the system x, control input u\n",
        "    Output: next state vector\n",
        "    \"\"\"\n",
        "    dt = 0.1\n",
        "    x_next = x + dt * dynamics(x, u)\n",
        "    return x_next"
      ],
      "metadata": {
        "id": "skO7sZ789ewT"
      },
      "id": "skO7sZ789ewT",
      "execution_count": null,
      "outputs": []
    },
    {
      "cell_type": "markdown",
      "source": [
        "Next, we will define our set of initial states as well as our input set. From this we will construct a **single** feedback motion primitive. Later, we will generalize these results to obtain multiple primitives that can be used for planning. In the following, define two zonotopes $X0$ and $U$ for the previously mentioned sets. The initial set is centered at the origin with orientation zero and has a total width of $0.1$ in each state direction. The input set is defined as $U = \\left\\{[u_1, u_2]^T \\in \\mathbb{R}^2 \\mid 0.2 \\leq u_1 \\leq 0.3, 0.5 \\leq u_2 \\leq 1\\right\\}$."
      ],
      "metadata": {
        "id": "Ut2v91FvTQ1y"
      },
      "id": "Ut2v91FvTQ1y"
    },
    {
      "cell_type": "code",
      "source": [
        "nx = 3\n",
        "nu = 2\n",
        "\n",
        "# X0 = ...\n",
        "# U = ...\n",
        "\n",
        "# visualize initial set\n",
        "fig, ax = plt.subplots()\n",
        "pp.visualize([pp.zonotope(x=X0.x[0:2], G=X0.G[0:2, :])], ax=ax, fig=fig)\n"
      ],
      "metadata": {
        "id": "hFxqlVaa9wOU"
      },
      "id": "hFxqlVaa9wOU",
      "execution_count": null,
      "outputs": []
    },
    {
      "cell_type": "markdown",
      "source": [
        "Next, we would like to be able to sample trajectories from our system given the initial states and the input sets. For that purpose, we need a function that allows us to sample a point from a zonotope. "
      ],
      "metadata": {
        "id": "JuREm2ovWKdJ"
      },
      "id": "JuREm2ovWKdJ"
    },
    {
      "cell_type": "code",
      "source": [
        "def sample_zonotope(zt):\n",
        "  \"\"\"\n",
        "  Input: pp zonotope\n",
        "  Output: uniformly sampled point inside zonotope\n",
        "  \"\"\""
      ],
      "metadata": {
        "id": "tiB155AA90yO"
      },
      "id": "tiB155AA90yO",
      "execution_count": null,
      "outputs": []
    },
    {
      "cell_type": "markdown",
      "source": [
        "We will now sample a bunch of initial states and input trajectories of length $N_s = 20$ to fit a linear model to the multi-step solution of our dynamical system. Fill the matrices!"
      ],
      "metadata": {
        "id": "UzywqZZRW_6v"
      },
      "id": "UzywqZZRW_6v"
    },
    {
      "cell_type": "code",
      "source": [
        "# number of timesteps for feedback motion primitive\n",
        "N_s = 20\n",
        "\n",
        "# sampled trajectories\n",
        "n_samples = 10000\n",
        "\n",
        "state_traces = np.zeros((n_samples, nx, N_s))\n",
        "input_traces = np.zeros((n_samples, nu, N_s - 1))\n",
        "\n",
        "#PUT YOUR CODE HERE"
      ],
      "metadata": {
        "id": "SrG_VjDy93s8"
      },
      "id": "SrG_VjDy93s8",
      "execution_count": null,
      "outputs": []
    },
    {
      "cell_type": "markdown",
      "source": [
        "Next, we're gonna fit a linear model for the transition from initial state $x_0$ to the state after $x_{T}$ after $N_s=20$ timesteps. Note, that this is not a linear model relating the state at the next time step to the current one, but predicting the state after $T$ timesteps, i.e.\n",
        "\n",
        "$$\n",
        "\\mathbf{x}_{t+N_s} = \\mathbf{A} \\mathbf{x}_t + \\mathbf{B} \\begin{bmatrix}\n",
        "\\mathbf{u}_t\\\\\n",
        "\\mathbf{u}_{t+1}\\\\\n",
        "\\vdots\\\\\n",
        "\\mathbf{u}_{t+N_s - 1}\n",
        "\\end{bmatrix} + \\mathbf{c}\n",
        "$$\n",
        "\n",
        "where $\\mathbf{A} \\in \\mathbb{R}^{n_x \\times n_x}, \\mathbf{B} \\in \\mathbb{R}^{n_x \\times (N_s-1) n_u}$ and $\\mathbf{c}\\in \\mathbb{R}^{n_x}$. To find this model, we will make use of the LinearRegression function in `sklearn`. Since this is mainly annoying formatting, the function is provided in the following. To ensure that we are not overfitting to the data, we seperate the input and outputs into a training and test set. At the end, an approximate linearization error is calculated based on the error on a test set."
      ],
      "metadata": {
        "id": "vEUDOtcQ-SIS"
      },
      "id": "vEUDOtcQ-SIS"
    },
    {
      "cell_type": "code",
      "source": [
        "from sklearn.linear_model import LinearRegression\n",
        "\n",
        "# Seperate data into training and test set: 2/3 training 1/3 test\n",
        "ind = int(np.floor((2/3) * n_samples))\n",
        "\n",
        "# training set\n",
        "initial_states_train = state_traces[:ind, :, 0]\n",
        "inputs_train = np.moveaxis(input_traces[:ind, :, :], 1, -1).reshape((ind, -1))\n",
        "training_input = np.concatenate((initial_states_train, inputs_train), axis=1)\n",
        "training_output = state_traces[:ind, :, -1]\n",
        "model = LinearRegression().fit(training_input, training_output)\n",
        "\n",
        "# obtain model\n",
        "A = model.coef_[:, :nx]\n",
        "B = model.coef_[:, nx:]\n",
        "c = model.intercept_\n",
        "\n",
        "\n",
        "# test set\n",
        "initial_states_test = state_traces[ind:, :, 0]\n",
        "inputs_test = np.moveaxis(input_traces[ind:, :, :], 1, -1).reshape((n_samples - ind, -1))\n",
        "test_input = np.concatenate((initial_states_test, inputs_test), axis=1)\n",
        "test_output = state_traces[ind:, :, -1]\n",
        "\n",
        "# Error on training set\n",
        "prediction = model.predict(training_input)\n",
        "err_training = abs(prediction - training_output)\n",
        "max_error_training = np.max(err_training, axis=0)\n",
        "print(\"Max error on training data: \" + str(max_error_training))\n",
        "\n",
        "# Error on test set\n",
        "prediction = model.predict(test_input)\n",
        "err_test = abs(prediction - test_output)\n",
        "max_error_test = np.max(err_test, axis=0)\n",
        "print(\"Max error on test data: \" + str(max_error_test))\n",
        "\n",
        "# overapproximate linearization error\n",
        "linearization_error = max_error_test * 1.5\n",
        "\n"
      ],
      "metadata": {
        "id": "QEJUPjWR-TMI"
      },
      "id": "QEJUPjWR-TMI",
      "execution_count": null,
      "outputs": []
    },
    {
      "cell_type": "markdown",
      "source": [
        "Now, we've fitted a linear model to the transition which allows us to calculate reachable sets! Overall, the reachable set of our system after $T$ steps can be obtained as\n",
        "\n",
        "$$\n",
        "\\begin{align}\n",
        "\\mathcal{R}_T &= \\left\\{\\mathbf{A} \\mathbf{x}_0 + \\mathbf{B} \\mathbf{u}_{0:(N_s-1)} + c \\mid \\mathbf{x}_0 \\in X0, \\mathbf{u}_i \\in U,  \\forall i = 0,\\dots, N_s-1\\right\\}\\\\\n",
        "&= \\left\\{\\mathbf{A} \\mathbf{x}_0 + c \\mid \\mathbf{x}_0 \\in X0\\right\\} \\bigoplus \\left\\{\\mathbf{B} \\mathbf{u}_{0:(N_s-1)}\\mid \\mathbf{u}_i \\in U,  \\forall i = 0,\\dots, N_s-1\\right\\}\\\\\n",
        "&:= \\mathcal{R}_x \\bigoplus \\mathcal{R}_u\n",
        "\\end{align}\n",
        "$$\n",
        "\n",
        "Calculate these zonotopes!"
      ],
      "metadata": {
        "id": "IPPs_VY4-cQQ"
      },
      "id": "IPPs_VY4-cQQ"
    },
    {
      "cell_type": "code",
      "source": [
        "# Reachable sets Rx and Ru as pp zonotopes\n",
        "# Rx = ...\n",
        "# Ru = ...\n",
        "\n",
        "# Minkowski sum of sets\n",
        "# R = ...\n",
        "\n",
        "# visualization of Reachable set (projected to xy-plane)\n",
        "fig, ax = plt.subplots()\n",
        "# 2D zonotope\n",
        "R2d = pp.zonotope(x=R.x[0:2],G=R.G[0:2,:])\n",
        "pp.visualize([pp.operations.pca_order_reduction(R2d, 6)], fig=fig, ax=ax)\n",
        "pp.visualize([pp.zonotope(x=X0.x[0:2], G=X0.G[0:2, :], color='red')], fig=fig, ax=ax)\n",
        "plt.show()"
      ],
      "metadata": {
        "id": "Nvwz-KjY-fnc"
      },
      "id": "Nvwz-KjY-fnc",
      "execution_count": null,
      "outputs": []
    },
    {
      "cell_type": "code",
      "source": [
        "# Linearization Error bounds as zonotope\n",
        "Rw = pp.zonotope(x=np.zeros(3), G=np.diag(linearization_error))"
      ],
      "metadata": {
        "id": "oMjpmTCg-uvS"
      },
      "id": "oMjpmTCg-uvS",
      "execution_count": null,
      "outputs": []
    },
    {
      "cell_type": "markdown",
      "source": [
        "Here, we will also visualize some of the sampled trajectories. Why is the reachable set much larger than the actual sampled final states? In case you want to find out, sample some trajectories where you just take the extreme values of $\\mathbf{u}$ over the entire trajectory and visualize them!"
      ],
      "metadata": {
        "id": "mFiCEY7kjMlX"
      },
      "id": "mFiCEY7kjMlX"
    },
    {
      "cell_type": "code",
      "source": [
        "fig, ax = plt.subplots()\n",
        "pp.visualize([pp.operations.pca_order_reduction(R2d, 6)], fig=fig, ax=ax)\n",
        "\n",
        "idx = np.random.randint(n_samples, size=10000)\n",
        "\n",
        "# Optional: sample corner case scenarios and visualize them\n",
        "\n",
        "\n",
        "for i in range(0, N_s):\n",
        "    plt.scatter(state_traces[idx, 0, i], state_traces[idx, 1, i])\n",
        "plt.scatter(state_traces[:, 0, -1], state_traces[:, 1, -1])\n",
        "ax.set_xlim([-0.6, 0.3])\n",
        "ax.set_ylim([-0.2, 0.6])\n",
        "plt.show()"
      ],
      "metadata": {
        "id": "PECgKNOc-yrS"
      },
      "id": "PECgKNOc-yrS",
      "execution_count": null,
      "outputs": []
    },
    {
      "cell_type": "markdown",
      "source": [
        "Now, the goal is to find a control policy $\\mathbf{u}_{0:(N_s-1)} = -\\mathbf{K} \\mathbf{x}_0$ s.t. the reachable set is shrunk to the linearization error meaning that $\\mathcal{R}_u$ cancels out $\\mathcal{R}_x$, i.e. $\\mathbf{A} - \\mathbf{BK} = \\mathbf{0}$. Note, that this is a mapping from the initial state to a sequence of control inputs, thus $\\mathbf{K} \\in \\mathbb{R}^{n_x \\times n_u (N_s - 1)}$. However, this problem cannot be uniquely solved since the $\\mathbf{B}$ matrix is not invertible. One approach to solve for a feedback matrix is to use the pseudoinverse $\\mathbf{K} = \\mathbf{B}^\\dagger \\mathbf{A}$ which, however, does not ensure that our inputs $\\mathbf{u}_{0:(N_s-1)} = -\\mathbf{K} \\mathbf{x}_0 \\in U$ are inside the feasible control set. An alternative is to formulate this as an optimization problem in which we would like to minimize the control effort (magnitude of $\\mathbf{K}$) subject to reachable set cancellation and input constraints:\n",
        "\n",
        "$$\n",
        "\\begin{aligned}\n",
        "\t\\min_{K = [K_{ij}]} \\quad &[K_{11}, K_{12}, \\dots, K_{nm}]^T Q [K_{11}, K_{12}, \\dots, K_{nm}]\\\\\n",
        "\t\\textrm{s.t.  } \\quad  &A - BK= 0\\\\\n",
        "  \\quad &-Kv \\in U, \\forall v \\in \\mathrm{vertices}(X0)\n",
        "    \\end{aligned}.\n",
        "$$\n",
        "Due to linearity, it is sufficient to enforce input constraints at the vertices of the initial state set!\n",
        "\n",
        "In the last tutorial, we have used pythons `CVXOPT` library to efficiently solve a quadratic program for control synthesis. Since the optimization problem is also a QP, we can make use of the same library. Have a look at $\\href{https://cvxopt.org/examples/tutorial/qp.html}{this} $ example on formulating a QP in cvxopt."
      ],
      "metadata": {
        "id": "x_HOB1DQ_PoY"
      },
      "id": "x_HOB1DQ_PoY"
    },
    {
      "cell_type": "code",
      "source": [
        "# Some imports for the QP formulation\n",
        "from cvxopt import matrix, solvers\n",
        "\n",
        "# set up QP\n",
        "\n",
        "# number of decision variables\n",
        "Kx = nx\n",
        "Ky =  (nu * (N_s-1))\n",
        "\n",
        "# cost function\n",
        "# Q = \n",
        "# p = \n",
        "\n",
        "# Equality constraints\n",
        "# A_eq = ...\n",
        "# b_eq = ...\n",
        "\n",
        "# Inequality constraints\n",
        "# G_ineq = ...\n",
        "# h_ineq = ...\n",
        "\n",
        "solvers.options['show_progress'] = True\n",
        "sol = solvers.qp(Q, p, G_ineq, h_ineq, A_eq, b_eq)\n",
        "K = np.array(sol['x']).reshape(Ky, Kx)\n",
        "\n",
        "print(\"Test: A-BK = \" + str(A - B @ K))"
      ],
      "metadata": {
        "id": "W9eisZP1_Qb_"
      },
      "id": "W9eisZP1_Qb_",
      "execution_count": null,
      "outputs": []
    },
    {
      "cell_type": "markdown",
      "source": [
        "Let's see if it worked! Use the initial state set X0 and forward propagate the closed loop dynamics!"
      ],
      "metadata": {
        "id": "hbuPHjWoozez"
      },
      "id": "hbuPHjWoozez"
    },
    {
      "cell_type": "code",
      "source": [
        "# state trajectories for controlled system\n",
        "feedback_state_traces = np.zeros((n_samples, nx, N_s))\n",
        "\n",
        "# PUT YOUR CODE HERE\n",
        "  \n",
        "# visualizations\n",
        "fig = plt.figure()\n",
        "ax = fig.add_subplot(121)\n",
        "\n",
        "# Visualize feedback samples\n",
        "idx = np.random.randint(n_samples, size=1000)\n",
        "pp.visualize([pp.zonotope(x=Rw.x[0:2] + R.x[0:2], G=Rw.G[0:2, :])], fig=fig, ax=ax, title=\"Feedback Motion Primitive\")\n",
        "for i in range(0, N_s):\n",
        "    plt.scatter(feedback_state_traces[idx, 0, i], feedback_state_traces[idx, 1, i])\n",
        "plt.scatter(feedback_state_traces[:, 0, -1], feedback_state_traces[:, 1, -1])\n",
        "ax.set_xlim([-0.8, 0.1])\n",
        "ax.set_ylim([-0.1, 1.])\n",
        "\n",
        "ax1 = fig.add_subplot(122)\n",
        "\n",
        "# visualize open loop samples\n",
        "idx = np.random.randint(n_samples, size=1000)\n",
        "pp.visualize([pp.operations.pca_order_reduction(R2d, 6)], fig=fig, ax=ax1, title=\"Open Loop Motion Primitive\")\n",
        "for i in range(0, N_s):\n",
        "    plt.scatter(state_traces[idx, 0, i], state_traces[idx, 1, i])\n",
        "plt.scatter(state_traces[:, 0, -1], state_traces[:, 1, -1])\n",
        "ax1.set_xlim([-0.8, 0.1])\n",
        "ax1.set_ylim([-0.1, 1.])"
      ],
      "metadata": {
        "id": "L8IZdDMU_XoH"
      },
      "id": "L8IZdDMU_XoH",
      "execution_count": null,
      "outputs": []
    },
    {
      "cell_type": "markdown",
      "source": [
        "**We are almost there!** We now have a single feedback motion primitive and we have canceled out the two reachable sets $\\mathcal{R}_x$ and $\\mathcal{R}_u$ and are only left with the linearization error. For our future analysis we are not only interested in where the robot will end up but also in all possible positions that the robot might reach when using the obtained controller. Thus, we are interested in the reachable tube of the feedback motion primitive! Since we've done a discrete analysis, we have to be careful as we are not entirely sure what happens in between discrete time steps... Next, use the samples from the closed loop system to obtain polygons that contain all the samples at each discrete time step $t_i$. Then, use some method to account for the continuous-time evolution in between time steps."
      ],
      "metadata": {
        "id": "M4M7c32Iq80T"
      },
      "id": "M4M7c32Iq80T"
    },
    {
      "cell_type": "code",
      "source": [
        "# reachable tube (list of polygons, I use shapely polygons since we will use\n",
        "# these polygons for collision checking but feel free to use another representation)\n",
        "reachable_tube = []\n",
        "\n",
        "# PUT YOUR CODE HERE\n",
        "\n",
        "# Visualization (If you don't use shapely polygons you might change the plotting command)\n",
        "fig = plt.figure()\n",
        "ax = fig.add_subplot(111)\n",
        "for p in reachable_tube:\n",
        "  x, y = p.exterior.coords.xy\n",
        "  plt.plot(x, y)"
      ],
      "metadata": {
        "id": "wXfiaocoBeTp"
      },
      "id": "wXfiaocoBeTp",
      "execution_count": null,
      "outputs": []
    },
    {
      "cell_type": "markdown",
      "source": [
        "Amazing! Recap what we've just obtained: We have \n",
        "\n",
        "1.   a contracting motion primitive (Final set is smaller than initial set)\n",
        "2.   a controller $\\mathbf{u}_{0:(N_s - 1)} = - \\mathbf{K} \\mathbf{x}_0$ that maps the initial state to a sequence of control inputs\n",
        "3. a reachable tube that can be used for collision checking\n",
        "\n"
      ],
      "metadata": {
        "id": "DWFocEbbtxLq"
      },
      "id": "DWFocEbbtxLq"
    },
    {
      "cell_type": "markdown",
      "source": [
        "# Long horizon planning using Feedback Motion Primitives!\n",
        "\n",
        "Now you know how to generate a single feedback motion primitive given an initial state set $X0$ as well as an input set $U$. The cool thing about feedback motion primitives is that they are a contraction on the state set meaning that they always \"shrink\" the initial state set. Thus, if we have multiple feedback motion primitives, we can concatenate them since the initial set of a motion primitive is always larger than the end of a motion. This concept is illustrated in the following figure.\n",
        "\n",
        "![picture](data:image/jpeg;base64,/9j/4AAQSkZJRgABAQAAAQABAAD/2wCEAAoHCBUSFRgSFRIZGRgaGBwZHBgYGRwcGhwaHBoZGRodHBkcLjAlHR4tHxgdJjomKy8xNTU2HCU7QDszPy40NTEBDAwMDw8PGA8PHjEdJCExMTExMTExMTExMTE/NDExMTExMTExMTExMTExMTExMTExMTExMTExMTExMTExMTExMf/AABEIAI8BYAMBIgACEQEDEQH/xAAcAAACAwEBAQEAAAAAAAAAAAAABwIDBgUEAQj/xABGEAACAQMBAwoCCAQCCAcAAAABAgADBBEFEiExBgcTIkFRYXGBkTKhFEJScpKiscEjYoKyMzQWFyRDU6PC0hUlY3N0k9H/xAAVAQEBAAAAAAAAAAAAAAAAAAAAAf/EABQRAQAAAAAAAAAAAAAAAAAAAAD/2gAMAwEAAhEDEQA/AHNCEIBCE5eta7b2SdJcVlRezJ6zHuVRvY+QgdSEw9hzpaZVfo+nZMnAaohVT/VwUeeJtUYEAgggjII3gg8CDAnCEIBCEIBCEIBCLfTtR1K9vL+hSvUopbVVVQ1urkq+3jfkcNjxzmanRLC9p1C1zfJXQqQEW3WmQ2QQ20GORgEY8fCB34QhAIQhAIQhAIQhAIQhAIQhAIQhAIQhAIQhAIQhAIQhAIQhAIQhAIQhAIQhAIQhA4/KfXaen273NXgowFHF2O5VHiT7DJ7IkLKyratVN/esSrHqUwSBgbsKD8KDHZxOSfHr84t+dT1JNPVj0NvkvjgWwC59NyDuJM79OkFAVRgAYAHAAcBA4d9yXtqqFBRRDjqsihWB7CSPi8jOTyS5b3Gj1jaXO1UoA42c5ZBjc1LJ+EjHV4d2DnO1CzEc4+nACndBQSrBHzwIO9c+uR6wHtpWp0bqmtahUV0bgwPuCOIPgZ75+f7LT7mz2b7TKrbLqrNRO8MOOCDucbzx6w7DN3yY50re4Io3Q+jVs7J2s9GW7to/CfBsd2TAYsJWjhgGBBBGQRvBB4EHulkAhCEBS8m7a8qalqv0W5p0sV02+kpdJtZNXZxvGzjB88jujB0O1vKZf6Vc06oOzsdHS6PZxnazvOc7vacTkhote3vdSr1aeylerTak20p2lXpcnCklfiHEDjNpA5Gma/Quaj0qTszIAzZR1GCzKCpcAMNpGGVyNxnXmNtdbtzq1WmLimWNtSpBQwyaiVroumPtAEZHZmbKAQhCAQhCAQhOZrmsU7Oi1eq2FHAdpPcIHThEuOUGrawzG0/gW4OOkJ2V9PrMfceU9NbQ9dt126GpCqw37BAGe3A2wVJ88QG/CLDk1zoqX+jalT+jVgdkuQRTJ/mB3pnv3r25EZaVAwDKQQRkEHII7wRxgWQhCAQhCAQhCAQmJ17lJeJqCada0qDl7fptqszr9d1IyuexR2d89+nVdVNRBXpWa0s9c03qlwMH4QwAznHGBp4QhAIQhAIQhAIQhAIQhAJzOUWpi0tq1yd/R02YDvYDqj1bA9Z04sOfLUClpStlPWrVRkdpVATjH3intAynN7ZsadS7fe9Zydo8SASSfVifYTYBZTpVkKNGnSH1EVfUDefPOTPYFgVhZy+U9l01rWTG/YLDzTrj5rO0FgyAggjcRg+RgZPm7uduzVc5KOy+mdof3TsatoFvdj+LT62Nzruceo4jwORMpzYkr9JoN9Sovv11b+wRgJCsbb6XqmmdaxuTUpg56FgMYzk9Rur6qVM7+lc7qK3RX1q9FxxZASvbvKNhgPLanaSQu9PpV12KtJHHc6g48ieEI1Gk6/a3a7VvcJU8FYbQ81O8eonViavube3c7dCo9F+zB2lB8M9YejSulR1+x/wrkXKDgrNtnHlUw3oGPhAdMIo7fnXuaHVvtMdMcWQOnqFqDH5podO51dNrY2qj0j3VUOPxJtLj1gbuE5Nhyjs7jdSu6LnjsrUQt6rnI9p1Ac7xAlCEIBCEIBE1y1qvq2pppqMRSp5NQjsVcFz5k4XzKxu31wKdN6h4IjN+EE/tFRzT0DU+lXz72q1dhT/KvWJHgSwH9MBgW1slJFpogREAVVHAAcAJbCEDkcouTlvfp0ddASB1XG51Perd3gd0U9DUtR0C4Fqr7dMnKowzTqKTxTtRsngDx457XfM/yz5OJqFu1PcKi5am/wBl+7PceBgfOTPOZZ3ZFKqTbVs7Jp1ThS24YVzgcTjBwfCbkHMSXJ+0t9VpPbXlPZu6HUZ16tQqOqrE/W7jnPYe2emjZavpG+0rfSrcf7l8swHcq8R/QfSA5oRd6Dzq2tZuiuVa1q8CKnwZ+/xX+oDiN83ttcLVUVEdWVhkMpDKQeBBG4iBfCEICx5R1K669SNtTR6n0D4ajFVx0lXJ2gCczWaXc6k1RRcW9ulPftNTqszDccYUqAd+JyLqyqnXqVcUnNIWJQ1NltgPt1Dsl8bIbBG7PbNzA5tDWrapUNBLmk1UZzTWopcY45UHO6dKYuo1K8uqdO3WmtO1rbdSsAozVww6Kljict124dm85xtIBCEIBCEIBCEIBCEIBEvzjubrWbW2+rSRGIx9Ys1RvQqqCOiI+0q/SNevKm8imGQZ7ChSkR7hoGx2Z9CSwJJBYFQWSCy0LPoWAteRi7F/ep/Mx/5h/wC6b5JhuTgxql6B3n+8TcpCr0lySlJckC5ZasqWWrCLNkEYIBHcd85V5ySsa2S9pSyfrKgRvPKYyZ11liwMPec1Vi+9Hq0/AOrL7MCfnPIeba6pf5bVaiY4Al0+aNu9oyVk1gLRNH5RUBhL9Kg7mcMfU1Uz85cdW5SUtxtqdTHcqH5qwjJWWLAWA5f61TOKmjlvuU636rtCH+tu5TdU0l1/qcfJkjSWTBgJ/XOdkVrerR+hVEaojKGLDCkjGTuEr5CcqEtLKnSNJmOXYsGAztOTN7zlLnTbk4ydjj6ic/kJRU6fbZVT/CHEDvMDx/6e0/8AgP8AiWVV+ci3pjaelUA8Cp+WRNgLZP8Ahr+ERSrarrOruhH+zW+SwAwGCMFxkfaY+wOO+BruTvOLaXlQUcPSdjhek2dlj3BgdzeBmzmI5xOSdO4tjVpIqVqC7SFBs5Rd7KceAJHcR4mdLkDrhvbJKrnNRc038WXg3quD5kwMvy6tjp15R1WkOozBK6jtB+LOO0qPcCbyhVWoq1EOVZQykcCCMg+xkeUelrd21Sgw+JDjwYDqn3mQ5sNTZ7d7Rz17ZymDx2CTs+xDD0EDR6toFtdjFeijnGA2MOM9zjeJkm5EXlk3SaZfOnE9FUbqnw4bLf1L6xgrJCBh7fnLvbM9Hqentj/i0hgH0OVY+TDym10TlxYXmBSuUDn6jnYfPdstx49mZYyBgVYAg8QRkexmX1fm8sLnJ6LonP1qR2fyfD8oDJhE6nJLVrH/ACOol1HCnU3DGOAV9pPDs9Jd/rF1KzGL7TCVHGpTJUAZ45G0p9xmAxk5PWa1OlFnbioG2tsUUD7Wc7W3jO1nfnjOtMFpfOvptfAaq1Fj2VEOM922uVHmSBNfp+rULgZo16dQfyOrfpA90IQgEIQgEIQgEIQgERnN3l7m/rHi9U+5d2P6x31WwrHuBPyiU5pxtJdN31h+hMDdhJILLAskFgVBZIJLAskFgKzkq+1qV8w+0w/5mP2m7SYDm+cVLi9rDgzgjyd6jfsJv0hV6S5JSkuSBcstWVLLVhFyyxZWssWBcsmsgsmsCxZYsrWWLAmsmJBZMQODy8pbWnXa/wDoMfYZ/acTm6qbWnWx7kI9ncTY6nbdLRq0j9em6fiUj94vOaSvtWPRnO1TqujA9hyHx+aBrNWuuioVav2Kbv8AhUn9pheZW1/2evcH4nrbJPaQiq361DNZyy/yF1/8ep/YZw+aEf8Aly+NWpn3A/aBtyAdxGQdxEWXNKehrX9nk7NOoCoP8rVEY+oCRnRbcjE2dZ1FRwwT+dT+8BkxY1V+ga2Mbqd0pB7to7wfxAD1jNi853rZlpUbtNzUagIPdvBX5wNyskJRaVxURKi8HUMPJgD+8vECYkxIiTECYklkRJCByNT5KWN1/jWlNifrAbDfjTB+cy99zRWb9ajVq0W7N4cA9h34O7zjCWTEBZryS1u1GLbVukAO4VC3DycOPTMlT17lHbYFWxS4UfWRVLN/9TbvwiM0SawFgOdutR/zWlVKYzjaDMo9nUfrOjac8env8a1qf3kB/tJjAxnjPHcaJbVSTUtaLk8S1NCT6kZgcC25ztLcZ+mbPg1OoD/bPYOX2mYz9Ppe5z7YzF9zlULGiy6fZafSa7q43om+mDwwB9cjv3Abz2T1cn+aq2poDd5q1CN6q7KinuXZwzeZPpAZ2matQulL0K6VVG4lGDYPHBA3g7+BnQiR5UcmW0dk1PTmdFRgKlMsWGyT253sh3Ag5xkEcNzc0HVUvLelcp8NRQ2O48GB8QQR6QPZd/A/3W/QxMczq/wbj/3R/bHTUXII7wR7iJvmhGEuk7RXH6EftAYAWSCywLJBIFYSUajW6KlUqfYR33/yqSP0nsCzNc5F30OnVz2uFpjx22Cn8u0fSBiubChs27uR8dTcfBVA/UmbhJnORNt0dlRB4sC5/qYsPykTRpKq9JckpSXJILllqypZasIuWWLK1liwLlk1kFk1gWLLFlayxYE1kxILJiBJYreRC/RtQ1KyJ3CqKqDPYxJ3D7rp7RpLFnytH0PWbS74Jco1B+4sOqM+OWpn+mBp9ftjVtbimOL0aij1RhMjzMV9qxdO1Lhh6FEYfMn2m+x2GK/kLUOn6lc6a+5ajFqW/iQdpOziUb3XEBpxZc3bmrqeo1hw2tjPnUbHypmbblRq62VtVuGO9Vwg73bcg9z7AzM80WlmjZGsww1di28b9hcqvoTtEfez2wN3M9y8s+msK6doTaHmu/8ATM0M8+o09ulUXvRh+UwMxzdXfS6fbk8VVkP9Dsq/lCzUCYPmkc/RKlM/7uuy+4U/vN4IExJrIiTWBISYkBJiBNZISKyYgTEmsgJNYElnl1nUVtKFW5f4aaM5HfgbgPEnA9Z6li857r407FKK8a1ZVPiqgvj8QWByObDTGuHq6vcdarVdghI+Ebw7Lnh9kdwU98ZE5+g2AtrajQXglNV7snHWJ8SST6zoQPDrdoK9tWokZ26Tr6lTg++DM9zG3RfT2Q8Kdd1HkVR/1czTancCnRq1DwSm7/hQt+0y3MVQZbCoxG57hmXxASmv6qYDLiX5uB0OoajaEnIdmUH7KVWUn121joieuh9D5SHO5bqmO4DrLgfnpe8BjBZ9CSwLJBYFQSLLnkui/wBFsU+Ko+2R67CZ8Ms34Y1AsSwuf/EdYq3A306GVTx2cop9TtN7QNjbUwiqg4KAo8gMT0pKVlySqvSXJKUlySC5Zas8FzqNGiM1ayIP53VfbJ3ziXvOBYUv9+ah7qals+pwPnCNgssWLgc5LVd1rp1eqc4G4nPogbf6yylqXKC5x0VglFSeNRdlh5io2fywGSsltADJOB3ncIuhyQ164/xtRSkp7EZgw8thR/dL05omqZNxqleoT3Aj32maBs7jXLal/iXVFPv1EH6mcu45wdMTObxGx2IHb2IGPnPDZ8z+m0/iFap9+pgfkCn5zs2vN5plMYFlTP39pz7sTA4Nxzt6cg6rVangtPH95E8D88luxxSsq7nuJVT+XajDt+TtnTxsWdBccCKSZ98ZnRWmo3BQPIAQFW3OdeMcUtFrb/tGof0QThctdV1PUaAWppD0lpt0oqAPldkHJ347I9ZW6BgQQCCMEHeCDxBEBU6Nyl1O7opWpWtNlYfFnGWUlW3EjtBnK5ScnNTvqlO4NFErU8bLIyqdx2lydo8G3jzM63JDOm31zpDEhGPTW5b6ykZKgnj1R702m/gKteS+qalUprqLhKFM52VKZc9pATdtHhtHGOwRo0aSoqoihVUBVA4AAYAEnCAT4wyCO8Yn2fHbAJ7gT7CAt+aVupdr3XGfcH/8jDWL7mkX+HdP33JHsoP/AFRgrAmJNZASxYH1ZYJBZMQJrJLIrJLAmJYJASYgSWKzntJ2rEfV6Y588p+2Y0xF7z1ac9SxSug30KqucdiMCpPoxX0zA17cYTncn9UW7t6VwpyHQE794YbnU+IYET216y01Z3YKigszMcKoG8kk8BAyPOnqot7F0B69Yiko8Dvc/hBHmRNRyB0k2lhb0SMNsB2Hcz9dh6bWPSLnTUbX9TFXZP0K1OQSNzsDkDzc4JH2V7CY6YBFTz1WDUxa6lTHXoVQpIHZtbaEnuDKR5v4xrTna1paXdCpbVPgqKVJ7QTwI8QcEeUDz6XeLc0adwhytRVYf1DOPMHd6T1hYpuRHKFtHrvpOoHZRWJpVW+AA8N/2G4g9hJB8GJrXKmzs6Zq1a6Yx1VRgzsewKo4+fCByOczlELCzfZOKtXNOng7xkHabw2R295ExnIvSfo1uuRh367d4yOqvoPmTMZq3Kh7+9FzVpFwpAo26k4GDlF4HO/ecDrHwmvtNH1y/wAEU1taZ37T4VsHHYcvn0EDR17pKS7VSoqDvZgP1nDvuXlnS3KzVW7kXd+JsA+mZ19N5nqOeku7qpXbtC9RfIkksfcTb6TyUsrT/AtKan7RXaf8bZb5wFZQ13VLv/J6ayqeFSoDgjPEM2yvtme6nyD1i633OoLRU/UpsxPkVTZX8xjhhAWmn8ztkp2q9atWbtywRT57I2s/1TT2PIjTqAGxY0SRje6Cod3bl84PjNJCBXTpqowqhR3AAD5SyEIBCEIBCEIBCEIBCEIGC50NCerSS/t8i5tDtrjiyDBZcDjjGcd20O2e/k3rSX1ulyn1hhl7VcfEp8j7gg9s1sUmr2z6DeG6RWNhcN/EVd/Q1Cc5C9g44xxBI7FgMKErtq6VEWojBkcBlZTkEHgQZZAJzuUF0KNtWqHgtNz8iB+s6MwfOtqLdBTsae+rcuqhRx2Qw+RbA94Euam12NPRyN9R3fzAYoM/gm0WcJb2206ilB6qr0aKgUZZjgAZ2Vyd/Hf3zh1OXj1mNKxtHquO3BbHdlE4DxZhA3olF3qNGiM1aqJ99gD6A7zMbT0HWr3fWrrbIfq5Bb8NI/q+fCdCw5p7ZetcV6tdzxOejUnyXLe7GB9vucSwpZ/iM5/kQ4/E2F9jOS3Oa9Q4tdOq1T/UfXCK03unckbG3INKzpAj6xXaf8b5b5ztKgUYAAA7BuEBUDXdfrY6PTVpg8C64Prtv+0mNP5S1Tvq0aXqmPkrxrwgKf8A0P19z19WRfuu/wD0oskOb/Vjx1yqPKpX/wC4RrQgKg832r8RrtX1qV8f3GU1+RevFWp/+J06lN1KstRnYMpGCMMjdkbsICL0fk3rulBugppURjvTbV1z9oKSpB8RjsnRfk1rOrEJeuttbg5ZFxlsHsRScn7xwOO+OOEDmaFo1Gxorb0E2UX3Y9rMe0nHGdOEIBCEIHC5Scl7XUUCXFLaK/C6nZde/DDs8DkTKWHM7p9NiXarVHYrPsgeqAH5xkQgcrR9BtrNdi3t0pjgSo6x4fE5yzcBxM6sIQCEIQCEIQCEIQCEIQCEIQCEIQCEIQCEIQCeW+s0r02o1VDI4Ksp4EGeqEBR3GnXmgOz0Ua509m2ig3vRyd+PDx4Htwd50ekcsrG6UFLlAx+o5COD3bLcfTM3My+q8g9OuW26lom0TkshamSfHYIz6wM3yi5xrO0yiN09QZGzTPVB3/FU4DeMbsnwmU03k1qmqXBv6iCgCMIzkrsrg4CoOudx4nZznOY0NI5B6dat0lK0XaBBDOWcqRwK7ZOyfETTwMJpHNnaU8NcFrh+J28rTz2/wANTvHgxabS2tkpqERFRRwVQFA9BL4QCEIQCEIQCEIQCEIQCEIQCEIQCEIQP//Z)\n",
        "\n",
        "The goal of this section is to come up with an algorithm that connects multiple feedback motion primitives such that we can reach a goal while avoiding collisions with obstacles. We will consider the same static environment as in the first section."
      ],
      "metadata": {
        "id": "Z5X6Ai7IB3NZ"
      },
      "id": "Z5X6Ai7IB3NZ"
    },
    {
      "cell_type": "markdown",
      "source": [
        "Implement a function that returns N feedback motion primitives starting at the initial set $X0$ with different input sets $U_1, \\dots, U_N$ where each input set is defined as $U_i = \\left\\{[u_1, u_2]^T \\in \\mathbb{R}^2 \\mid 0.2 \\leq u_1 \\leq 0.3, u_{i, min} \\leq u_2 \\leq u_{i, max}\\right\\}$. The input sets should be distributed equidistantly, e.g. $u_{1, min} = u_{min}, u_{N, max} = u_{max}$ and $u_{i, max} = u_{i+1, min}$. Also, represent each feedback motion primitive as a class object of type FBMotion. We later want to use these primitives for collision checking, so it will be useful to also include attributes such as reachable_tube."
      ],
      "metadata": {
        "id": "4wXZEYMdq8rY"
      },
      "id": "4wXZEYMdq8rY"
    },
    {
      "cell_type": "code",
      "source": [
        " class FBMotion:\n",
        "  def __init__(self, X0_set, U_set):\n",
        "    # Add all the functions you need\n",
        "\n",
        "  def ...\n",
        "  \n",
        "  def plot(self, ax):\n",
        "    # plot reachable tube\n",
        "\n",
        "\n",
        "def generate_feedback_motion_primitives(X, u_min, u_max, N):\n",
        "  \"\"\"\n",
        "  Input: Initial state set X as zonotope, u_min, u_max, number of motion primitives N\n",
        "  Output: N equidistantly distributed (in input space of u2, keep u1 the same over all primitives) feedback motion primitives \n",
        "          (list of FBMotion objects)\n",
        "  \"\"\"\n",
        "  motion_primitives = []\n",
        "  # PUT YOUR CODE HERE\n",
        "\n",
        "  return motion_primitives\n",
        "\n",
        "u_min = - 1\n",
        "u_max = 1\n",
        "primitives = generate_feedback_motion_primitives(X0, u_min, u_max, 11)"
      ],
      "metadata": {
        "id": "iR6idxBQB4PF"
      },
      "id": "iR6idxBQB4PF",
      "execution_count": null,
      "outputs": []
    },
    {
      "cell_type": "markdown",
      "source": [
        "Let's have a look at our motion primitives!"
      ],
      "metadata": {
        "id": "e8KV-5WAtVTy"
      },
      "id": "e8KV-5WAtVTy"
    },
    {
      "cell_type": "code",
      "source": [
        "fig, ax = plt.subplots()\n",
        "for p in primitives:\n",
        "  p.plot(ax)"
      ],
      "metadata": {
        "id": "EdBVm8wFCJE1"
      },
      "id": "EdBVm8wFCJE1",
      "execution_count": null,
      "outputs": []
    },
    {
      "cell_type": "markdown",
      "source": [
        "## A* path planning algorithm using motion primitives\n",
        "In this last step, we will use the obtained N feedback motion primitives for a dynamically feasible A* search. In this section you are free in the way you implement the algorithm, e.g. how to choose costs and heuristics. The goal is to find a sequence of feedback motion primitives that bring the robot from its initial state $x_0$ to the goal state $x_G$ while always staying in the free space $\\mathcal{X}\\setminus \\mathcal{X}_{obs}$.\n",
        "\n",
        "Here are a couple of hints:\n",
        "\n",
        "\n",
        "1.   Feedback motion primitives can be shifted and rotated in the configuration space. The final polygon of a motion primitive should always be entirely contained in the first polygon of the next motion primitive when concatenating them.\n",
        "2.   It is fine if you find a solution that is \"close\" to the goal state. A solution is accepted if the center of the final polygon $c$ satisfies $\\lVert \\mathbf{c}_N - \\mathbf{x}_G\\rVert_2 \\leq 0.2$.\n",
        "3. You can use `shapely.affinity` for transformations and rotations of shapely polygons.\n",
        "4. Optimality of the solution is not required.\n",
        "5. The complexity of collision checking can be reduced by first using an overapproximation of the reachable tube. If that over approximation is collision free, you don't need to do complex collision checking.\n",
        "6. A lot of implementations of the standart A* algorithm in python can be found online ;) \n",
        "7. A feasible solution could look something like this:\n",
        "\n",
        "![Sol_Astar.png](data:image/png;base64,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)\n",
        "\n"
      ],
      "metadata": {
        "id": "TuLE691GCN6b"
      },
      "id": "TuLE691GCN6b"
    },
    {
      "cell_type": "code",
      "source": [
        "from shapely import affinity\n",
        "\n",
        "# feel free to use any other polygon representation\n",
        "obstacles_shapely = [Polygon(o) for o in obstacles]\n",
        "\n",
        "# robots initial state\n",
        "x0 = np.array([0.5,0.5,0])\n",
        "# goal state\n",
        "xG = np.array([3., 2, 0])\n",
        "# collision radius of robot\n",
        "r = 0.2\n",
        "\n",
        "# PUT YOUR CODE HERE AND VISUALIZE YOUR RESULTS"
      ],
      "metadata": {
        "id": "iEOKtSySCQ6M"
      },
      "id": "iEOKtSySCQ6M",
      "execution_count": null,
      "outputs": []
    },
    {
      "cell_type": "markdown",
      "source": [
        "## Optional: Test your results and compare\n",
        "\n",
        "In case you are interested in how the robustness increases using feedback motion primitives, run two simulations of the drone operating in the environment. In this simulation, pick a random initial state from $X0$ and simulate the system with the inputs obtained in the E-level problem as well as the feedback motion primitives. Which one is more robust?"
      ],
      "metadata": {
        "id": "G_Z1BDhgL7FT"
      },
      "id": "G_Z1BDhgL7FT"
    }
  ],
  "metadata": {
    "colab": {
      "provenance": []
    },
    "kernelspec": {
      "display_name": "Python 3 (ipykernel)",
      "language": "python",
      "name": "python3"
    },
    "language_info": {
      "codemirror_mode": {
        "name": "ipython",
        "version": 3
      },
      "file_extension": ".py",
      "mimetype": "text/x-python",
      "name": "python",
      "nbconvert_exporter": "python",
      "pygments_lexer": "ipython3",
      "version": "3.8.10"
    },
    "vscode": {
      "interpreter": {
        "hash": "4c4b768e6b91420be1aa0f18e0e2b239a7d15704d4d1fda8bee26b340664750a"
      }
    }
  },
  "nbformat": 4,
  "nbformat_minor": 5
}