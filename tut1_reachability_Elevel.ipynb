{
 "cells": [
  {
   "cell_type": "code",
   "execution_count": null,
   "metadata": {
    "id": "2qnYdo9bVFtB"
   },
   "outputs": [],
   "source": [
    "import numpy as np\n",
    "import matplotlib.pyplot as plt\n",
    "from scipy.linalg import expm\n",
    "\n",
    "# the library requires \"optional\" dependencies not available in pip for almost all basic functions, \n",
    "# but plotting for zonotopes with a small amount of generators works fine.\n",
    "# Plotting Zonotopes is the only intended use in the tutorial!\n",
    "!pip install git+https://github.com/sadraddini/pypolycontain.git\n",
    "import pypolycontain as pp         "
   ]
  },
  {
   "cell_type": "markdown",
   "metadata": {
    "id": "Dkqq_OwSou55"
   },
   "source": [
    "# Safe Autonomy Tutorial: Reachability of Uncertain Linear Systems Using Zonotopes\n",
    "\n",
    "\n"
   ]
  },
  {
   "cell_type": "markdown",
   "metadata": {
    "id": "RHwFKSIfcelD"
   },
   "source": [
    "In this tutorial, we will re-implement the results of [(Girard 2005)](https://core.ac.uk/download/pdf/189205887.pdf). If anything in this tutorial is unclear, reading the paper might provide additional insight, although it is not necessary to finish the tutorial.\n",
    "\n",
    "![](https://drive.google.com/uc?export=view&id=1UCsHWculXWysIlcxwPJ0KtF9tSw8XTYt)\n",
    "\n",
    "\n",
    "`Girard, Antoine. \"Reachability of uncertain linear systems using zonotopes.\" International Workshop on Hybrid Systems: Computation and Control. Springer, Berlin, Heidelberg, 2005.`\n"
   ]
  },
  {
   "cell_type": "markdown",
   "metadata": {
    "id": "L5cgjYnZn2xd"
   },
   "source": [
    "# Preliminiaries"
   ]
  },
  {
   "cell_type": "markdown",
   "metadata": {
    "id": "qodbsdKF6s0n"
   },
   "source": [
    "Before we can start implementing the method, we should first define and understand the basic components and operations."
   ]
  },
  {
   "cell_type": "markdown",
   "metadata": {
    "id": "0-jh6fwop98R"
   },
   "source": [
    "## Zonotopes\n"
   ]
  },
  {
   "cell_type": "markdown",
   "metadata": {
    "id": "95RbYHOSoERE"
   },
   "source": [
    "<div><img src=\"https://drive.google.com/uc?export=view&id=1_WhYzott20_CF8ley1ahsDfS0qOMBUix\" width=400></div>\n",
    "\n",
    "[Zonotopes](https://mathworld.wolfram.com/Zonotope.html) are a special class of convex polytopes. Traditionally, a zonotope is a set of points in $n$-dimensional space constructed from vectors $g_i$ by taking the sum of $x_i v_i$, where each $x_i$ is a scalar between 0 and 1. Different choices of scalars give different points, and the zonotope is the set of all such points. Equivalently, a zonotope is a Minkowski sum of a finite set of line segments. \n",
    "\n",
    "In this tutorial, we define a zonotope Z as a set such that:\n",
    "\n",
    "$$Z = \\Bigg\\{ x \\in \\mathbb{R}^n \\: \\Bigg | \\: x = c + \\displaystyle\\sum^{i=p}_{i=1}x_i g_i,\\quad -1 \\leq x_i \\leq 1 \\Bigg\\}$$\n",
    "\n",
    "where $c,g_1, \\dots ,g_p \\in \\mathbb{R}^n$. We write $Z = (c, <g_1, \\dots,g_p>)$. Note that a zonotope is always centrally symmetric and that the point $c$ is the **center** of $Z$. The collection of vectors $g_1,\\dots,g_p$ is called the set of **generators** of $Z$.\n",
    "\n",
    "In this tutorial, we are going to make use of two interesting properties of zonotopes presented below in order to make our computations efficient. \n",
    "\n",
    "But first, let's explore how a zonotope could be represented in code, using the library *pypolycontain*. The zonotope is defined by a center $c$ and three generators:\n",
    "\n",
    "$$Z = (c,<g_1,g_2,g_3>)$$\n",
    "\n",
    "with\n",
    "\n",
    "*   $c = (4,0)^T$\n",
    "*   $g_1 = (1,0)^T$\n",
    "*   $g_2 = (0,2)^T$\n",
    "*   $g_3 = (0.1,0.5)^T$\n",
    "\n"
   ]
  },
  {
   "cell_type": "code",
   "execution_count": null,
   "metadata": {
    "id": "oeLFGB-EGl0g"
   },
   "outputs": [],
   "source": [
    "# center of our zonotope\n",
    "c = np.array([4, 0])\n",
    "# generators of our zonotope, separated in x-row and y-row i.e. the first generator is (1,0) \n",
    "g = np.array([[1, 0, 0.1], [0, 2, 0.5]])\n",
    "# the center c is denoted by x in this library, don't get confused!\n",
    "z = pp.zonotope(x=c, G=g)\n",
    "z.color='green'\n",
    "\n",
    "fig, ax = plt.subplots()\n",
    "pp.visualize([z], title='Zonotope Example', fig=fig, ax=ax)       # pp.visualize() does all the hard work for us\n",
    "fig.set_size_inches(7, 7)"
   ]
  },
  {
   "cell_type": "markdown",
   "metadata": {
    "id": "U1_FACpFzSs-"
   },
   "source": [
    "### Zonotopes: Minkowski Sum"
   ]
  },
  {
   "cell_type": "markdown",
   "metadata": {
    "id": "7N9bRS3-zaeq"
   },
   "source": [
    "In geometry, the [Minkowski Sum](https://en.wikipedia.org/wiki/Minkowski_addition) of two sets $P$ and $Q$ is defined as:\n",
    "$$P + Q = \\{p+q \\;|\\; p \\in P, q \\in Q \\}$$\n",
    "\n",
    "It turns out, Zonotopes are closed under the minkowski sum. Let $Z_1 = (c_1, <g_1,\\dots,g_p>)$ and $Z_2 = (c_2,<h_1,\\dots,h_q>)$ be two zonotopes. \n",
    "\n",
    "$$Z_1 + Z_2 = (c_1+c_2, <g_1,\\dots,g_p,h_1,\\dots,h_q>)$$\n",
    "\n",
    "In practice, this simply means we can compute the Minkowski sum of two zonotopes by adding the centers and appending the generators."
   ]
  },
  {
   "cell_type": "markdown",
   "metadata": {
    "id": "_IGshASQ01Po"
   },
   "source": [
    "#### Exercise 1"
   ]
  },
  {
   "cell_type": "markdown",
   "metadata": {
    "id": "-RRRel757feR"
   },
   "source": [
    "Let's try this out for ourselves. Compute and visualize the minkowski sum of two zonotopes by adding the centers and appending the generators! Solve the exercise by changing the annotated lines:"
   ]
  },
  {
   "cell_type": "code",
   "execution_count": null,
   "metadata": {
    "id": "-9ngnqe30zdp"
   },
   "outputs": [],
   "source": [
    "# two zonotopes\n",
    "c1 = np.array([4, 0])\n",
    "g1 = np.array([[1, 0, 0.1], [0, 2, 0.5]])\n",
    "z1 = pp.zonotope(x=c1, G=g1)\n",
    "z1.color='red'\n",
    "\n",
    "c2 = np.array([3, 3])\n",
    "g2 = np.array([[0, 1.2], [1, 0.2]])\n",
    "z2 = pp.zonotope(x=c2, G=g2)\n",
    "z2.color='blue'\n",
    "\n",
    "# their minkowski sum\n",
    "\n",
    "# PUT YOUR CODE HERE\n",
    "#cs = ...\n",
    "#gs = ...\n",
    "\n",
    "zs = pp.zonotope(x=cs, G=gs)\n",
    "zs.color='violet'\n",
    "\n",
    "\n",
    "fig, ax = plt.subplots()\n",
    "pp.visualize([z1, z2, zs], title='Two Zonotopes and their Minkowski Sum', ax=ax, fig=fig)\n",
    "fig.set_size_inches(7, 7)"
   ]
  },
  {
   "cell_type": "markdown",
   "metadata": {
    "id": "I04PwH3C_jqH"
   },
   "source": [
    "### Zonotopes: Linear Transformation"
   ]
  },
  {
   "cell_type": "markdown",
   "metadata": {
    "id": "N0wLFP7R_4WO"
   },
   "source": [
    "Zonotopes are closed under linear transformation. Let $\\mathcal{L}$ be a linear map and $Z = (c, <g_1,\\dots,g_p>)$ be a zonotope. Then the linear transformation can simply be expressed as $\\mathcal{L}Z = (\\mathcal{L}c, <\\mathcal{L}g_1, \\dots, \\mathcal{L}g_p>)$."
   ]
  },
  {
   "cell_type": "markdown",
   "metadata": {
    "id": "2wRFhOzp8XqN"
   },
   "source": [
    "#### Exercise 2"
   ]
  },
  {
   "cell_type": "markdown",
   "metadata": {
    "id": "D2_s13bj8f9G"
   },
   "source": [
    "In similar fashion to above: Compute and visualize the scalar multiplication of a zonotope $Z$ with some scalar factor $n \\in N$:"
   ]
  },
  {
   "cell_type": "code",
   "execution_count": null,
   "metadata": {
    "id": "Xh98E1Y0BInj"
   },
   "outputs": [],
   "source": [
    "# our starting zonotope\n",
    "c = np.array([4, 0])\n",
    "g = np.array([[1, 0, 0.1], [0, 2, 0.5]])\n",
    "z = pp.zonotope(x=c, G=g)\n",
    "z.color='green'\n",
    "\n",
    "#simple scalar multiplication example\n",
    "# PUT YOUR CODE HERE\n",
    "#cL = ...\n",
    "#gL = ...\n",
    "\n",
    "zL = pp.zonotope(x=cL, G=gL)\n",
    "zL.color='red'\n",
    "\n",
    "fig, ax = plt.subplots()\n",
    "pp.visualize([z, zL], title='Zonotope multiplied by factor %i'%factor, fig=fig, ax=ax)\n",
    "fig.set_size_inches(7, 7)"
   ]
  },
  {
   "cell_type": "markdown",
   "metadata": {
    "id": "5jAB0FIayM5-"
   },
   "source": [
    "### Zonotopes: Reduction - Interval Hull"
   ]
  },
  {
   "cell_type": "markdown",
   "metadata": {
    "id": "jKu_E1dq7LWS"
   },
   "source": [
    "Since every Minkowski sum increases number of generators in resulting zonotopes, ongoing computations can lead to zonotopes become to memory-intensive too handle. A reduction of the number of generators by overapproximation of the zonotope through a simpler one might be useful later on.\n",
    "\n",
    "Multiple methods for such a reduction step exists, but we will only cover the simplest method in this tutorial, the **intervall hull** method.\n",
    "\n",
    "With this method, an n-dimensional zonotope with p generators will be overapproximated by an n-dimensional zonotope with n generators.\n",
    "\n",
    "In 2d, the reduction step is quite simple and reduces any zonotope to a zonotope represented by a 2D diagonal matrix of the following form:\n",
    "\n",
    "\\begin{bmatrix}\n",
    "\\displaystyle\\sum^{p}_{j=1}|g_j^1| & 0 \\\\\n",
    "0 & \\displaystyle\\sum^{p}_{j=1}|g_j^2|\n",
    "\\end{bmatrix}\n",
    "\n",
    "where $g_j^i$ is the i-th value of the generator $g_j$ of the zonotope and p is the number of generators the zonotope has. **Note that each column represents a generator**. So essentially, by summing the absolute values of all the generators for a certain zonotope, we can compute the overapproximation."
   ]
  },
  {
   "cell_type": "markdown",
   "metadata": {
    "id": "LRLHSOg2yUhN"
   },
   "source": [
    "#### Exercise 3"
   ]
  },
  {
   "cell_type": "markdown",
   "metadata": {
    "id": "bC3nvpJS7ZZu"
   },
   "source": [
    "Try implementing it yourself! The result should be a rectangle tightly fitting the given zonotope."
   ]
  },
  {
   "cell_type": "code",
   "execution_count": null,
   "metadata": {
    "id": "wc3J9gG1yirB"
   },
   "outputs": [],
   "source": [
    "# our starting zonotope with 3 generators\n",
    "z_c = np.array([1, 0])\n",
    "z_g = np.array([[0.2, 0.04, 0.05], [0.02, 0.1, 0.05]])\n",
    "z = pp.zonotope(x=z_c, G=z_g)\n",
    "z.color = 'blue'\n",
    "\n",
    "# reduction step by interval hull\n",
    "# PUT YOUR CODE HERE\n",
    "#ih_c = ...\n",
    "#ih_g = ...\n",
    "\n",
    "ih = pp.zonotope(x=ih_c, G=ih_g)\n",
    "ih.color = 'green'\n",
    "\n",
    "fig, ax = plt.subplots()\n",
    "pp.visualize([ih, z], title='Interval Hull', fig=fig, ax=ax)\n",
    "fig.set_size_inches(10, 10)"
   ]
  },
  {
   "cell_type": "markdown",
   "metadata": {
    "id": "f5iCwVJ2xwn0"
   },
   "source": [
    "## Uncertain Linear Systems"
   ]
  },
  {
   "cell_type": "markdown",
   "metadata": {
    "id": "AkXCcCRofIQ9"
   },
   "source": [
    "In this tutorial, we consider uncertain linear dynamical systems defined through\n",
    "\n",
    "$$x'(t) = Ax(t) + u(t), \\quad ||u(t)|| < \\mu$$\n",
    "\n",
    "where \n",
    "\n",
    "\n",
    "*   $x(t) \\in \\mathbb{R}^n$ is the state  vector of the system,\n",
    "*   $A \\in \\mathbb{R}^{n \\times n}$ is a constant matrix,\n",
    "*   $u(t) \\in \\mathbb{R}^n$ is a disturbance bounded by $\\mu$\n",
    "\n",
    "\n",
    " and $||.||$ denotes the infinity norm on $\\mathbb{R}^n: ||x|| = \\max_{i=1}^{\\, i=n}|x_i|$.\n",
    "\n",
    "\n",
    " Examples for such a system include, but are not limited to:\n",
    "\n",
    "*   a pendulum\n",
    "*   car suspension through springs\n",
    "*   ...\n",
    "\n",
    "\n",
    "\n",
    "\n"
   ]
  },
  {
   "cell_type": "code",
   "execution_count": null,
   "metadata": {
    "id": "2apHebnDxE_V"
   },
   "outputs": [],
   "source": [
    "A = np.array([[-1., -4.], [4., -1.]])\n",
    "mu = 0.05"
   ]
  },
  {
   "cell_type": "markdown",
   "metadata": {
    "id": "uHSRTLbsN0xO"
   },
   "source": [
    "# Approximation of Reachable Sets"
   ]
  },
  {
   "cell_type": "markdown",
   "metadata": {
    "id": "HUePO3hCN2zz"
   },
   "source": [
    "In this example, we will start computations from an inital set of positions, defined through the zonotope $I$."
   ]
  },
  {
   "cell_type": "code",
   "execution_count": null,
   "metadata": {
    "id": "3tCnawHON30M"
   },
   "outputs": [],
   "source": [
    "init_c = np.array([1, 0])                                          # center of the initial zonotope\n",
    "init_g = np.array([[0.1, 0, 0.05], [0, 0.1, 0.05]])                # generators of the initial zonotope \n",
    "\n",
    "init = pp.zonotope(x=init_c, G=init_g)\n",
    "init.color = 'red'\n",
    "pp.visualize([init], title='Initial Values')"
   ]
  },
  {
   "cell_type": "markdown",
   "metadata": {
    "id": "ELkMKDGAVTpq"
   },
   "source": [
    "\n",
    "A reachable set of a system at time t reachable from the initial set of states $I$ can be expressed as:\n",
    "\n",
    "$\\Phi_t(I) = y \\in \\mathbb{R}^n : \\exists x$ solution of linear dynamical system equation, $, x(0) \\in I \\land x(t)=y$.\n",
    "\n",
    "What this means in words, is that if there exists a solution of the system such that an initial value can be used to reach that solution, then that solution is deemed to be reachable, i.e. part of the reachable set.\n",
    "\n",
    "To compute the reachable set within a certain interval $[\\underline t,\\overline t]$. We take the union of all the reachable sets within this interval in the follwing manner:\n",
    "\n",
    "$$ R_{[\\underline t,\\overline t]}(I) = \\underset{t\\in [\\underline t,\\overline t]}{\\bigcup}\\Phi_t(I)$$\n",
    "\n",
    "If we simplify our problem for only positive intervals, which is usually an applicable simplificiation because only positive intervals are needed to predict the future, we can obtain a simpler reachable set. Here, we set N to be the number of iterations in the future to check for reachability.\n",
    "\n",
    "$$ R_{[0,T]}(I) = \\bigcup_{i=0}^{i=N-1}R_{[i*\\frac{T}{N},(i+1)*\\frac{T}{N}]}(I)$$\n",
    "\n",
    "\n",
    "\n"
   ]
  },
  {
   "cell_type": "code",
   "execution_count": null,
   "metadata": {
    "id": "IfcvjKuvfBrl"
   },
   "outputs": [],
   "source": [
    "t = 10            # time interval [0,T] that is observed\n",
    "r = 0.02          # discrete time step size\n",
    "n = int(t / r)    # amount of time steps"
   ]
  },
  {
   "cell_type": "markdown",
   "metadata": {
    "id": "8btsul8_fCLi"
   },
   "source": [
    "To be able to determine reachability in a simpler manner, we rely on over-approximations of the reachable set. Over-approximation means that the reachable set you get is larger than the exact reachable set. This is useful to determine if no unsafe states are reached, for example. If no unsafe states are reached in an over-approximation, then it is guaranteed that no unsafe states are reached in the exact reachable set.\n",
    "\n",
    "\n",
    "The over-approximation of the reachable set of a system is defined using the following formula:\n",
    "\n",
    "$$\\Phi_r(Z)\\subseteq e^{rA}Z+\\Box(\\beta_r)$$\n",
    "\n",
    "where $$\\beta_r=\\frac{e^{r||A||}-1}{||A||}\\mu$$\n",
    "\n",
    "and $$\\Box(\\beta_r) = \\{x\\in \\mathbb{R}^n \\;|\\; ||x|| \\leq \\beta_r\\}.$$ \n",
    "\n",
    "From the definition of the infinity-norm, we can conclude that this set is actually a hypercube and can therefore be represented by a zonotope with center $(0,0)^T$ and two generators $g_1 = (\\beta_r, 0)^T, g_2= (0, \\beta_r)^T$. For demonstration purposes, the 2D version of $\\Box(1)$ is displayed below."
   ]
  },
  {
   "cell_type": "code",
   "execution_count": null,
   "metadata": {
    "id": "82T-iY4liuMK"
   },
   "outputs": [],
   "source": [
    "unit_cube = np.array([[1, 0], [0, 1]])\n",
    "C = pp.zonotope(G=unit_cube)\n",
    "pp.visualize([C], title=r'Hypercube zonotope')"
   ]
  },
  {
   "cell_type": "markdown",
   "metadata": {
    "id": "G0Fbj83_i-EN"
   },
   "source": [
    "Next, we want to obtain a conservative approximation of the reachable set \n",
    "$ R_{[0,r]}(Z)$ for a given zonotope $Z$. \n",
    "\n",
    "$$ R_{[0,r]}(Z)\\subseteq (\\underset{t\\in [0,r]}{\\bigcup})e^{tA}Z)+\\Box(\\beta_r)$$\n",
    "\n",
    "The issue with this approach is that it uses the convex hull of $Z$ and $e^{rA}Z$, which is not a zonotope. Instead, the following approximation can be made which is very simple to compute:\n",
    "$P_0=(\\frac{c+e^{rA}c}{2},<\\frac{g_1+e^{rA}g_1}{2},..., \\frac{g_p+e^{rA}g_p}{2},\\frac{c-e^{rA}c}{2}, \\frac{g_1-e^{rA}g_1}{2},...,\\frac{g_p-e^{rA}g_p}{2}>)$\n",
    "where $P_0$ is a zonotope that can be used to compute the conservative approximation using the following equation:\n",
    "\n",
    "$$ R_{[0,r]}(Z)\\subseteq P_0+\\Box(\\alpha_r+\\beta_r)=Q_0$$\n",
    "\n",
    "with $$\\alpha_r=e^{r||A|}-1-r||A||sup_{x\\in Z}||x||.$$\n",
    "\n",
    "The process is graphically explained in the following figure. For further explanation and proof, please refer to the paper.\n",
    "\n",
    "![](https://drive.google.com/uc?export=view&id=14Pm-CRbdEpSYeAx4adAJrKQRfE9QQBbm)"
   ]
  },
  {
   "cell_type": "markdown",
   "metadata": {
    "id": "2OMfBvNjC56M"
   },
   "source": [
    "#### Exercise 4 - P0 and Q0"
   ]
  },
  {
   "cell_type": "markdown",
   "metadata": {
    "id": "HP3gOEs5DE11"
   },
   "source": [
    "Now let's try to compute the first step of the reachable sets, $P_0$ and $Q_0$! For your convience, the code below already has all of the derived constants, but computation for the zonotopes is missing. Fill them in like described above!"
   ]
  },
  {
   "cell_type": "code",
   "execution_count": null,
   "metadata": {
    "id": "k7lZi2C7n_7U"
   },
   "outputs": [],
   "source": [
    "# derived constants from pseudo code\n",
    "A_norm = np.linalg.norm(A, np.inf)\n",
    "e_ra = np.array(expm(r*A))\n",
    "\n",
    "sup_ig = max(np.linalg.norm(g, np.inf) for g in init_g.T)      # iterate over columns, which are the generators of  the initial zonotope\n",
    "alpha = (np.exp(r*A_norm) - 1 - r*A_norm) * sup_ig\n",
    "beta = ((np.exp(r*A_norm) - 1) / A_norm) * mu\n",
    "\n",
    "beta_box_g = np.array([[beta, 0], [0, beta]]).reshape(2, 2)\n",
    "alpha_beta_box_g = np.array([[alpha+beta, 0], [0, alpha+beta]]).reshape(2, 2)\n",
    "\n",
    "# PUT YOUR CODE HERE\n",
    "# p0 computations - center vector\n",
    "#p0_c = ...\n",
    "\n",
    "# p0 computations - generators\n",
    "#p0_g = np.zeros((2, 2 * i_g.shape[1] + 1))\n",
    "\n",
    "#TODO: fill the values of p0_g\n",
    "\n",
    "#q0_c = ...\n",
    "#q0_g = ...\n",
    "\n",
    "\n",
    "# lists to store the q generators and centers\n",
    "q_g = []\n",
    "q_c = []\n",
    "# q0 computations\n",
    "q_c.append(q0_c)\n",
    "q_g.append(q0_g)\n",
    "\n",
    "pp.visualize([init, pp.zonotope(x=q_c[0], G= q_g[0]) ], title=r'Initial Set and Q0')"
   ]
  },
  {
   "cell_type": "markdown",
   "metadata": {
    "id": "at1EEBInKTkk"
   },
   "source": [
    "#### Exercise 5 - The Loop"
   ]
  },
  {
   "cell_type": "markdown",
   "metadata": {
    "id": "TY1oMXsSAd0s"
   },
   "source": [
    "Afterwards, we need to compute the zonotopes representing the reachable sets originating from previous reachable sets up to time $T$. To do this, we iterate over the number of time steps, using the following equations to compute the reachable zonotope of the current time step from the previous reachable set:\n",
    "\n",
    "$P_i=e^{rA}Q_{i-1}$\n",
    "\n",
    "$Q_i=P_i+\\Box(\\beta_r)$\n",
    "\n",
    "Note that due to the minkowski sum, the number of generators of $Q_i$ increases by 2 with each time step."
   ]
  },
  {
   "cell_type": "code",
   "execution_count": null,
   "metadata": {
    "id": "_uQTqATMAeIt"
   },
   "outputs": [],
   "source": [
    "# PUT YOUR CODE HERE\n",
    "# loop to compute pi and qi from predecessors\n",
    "#for i in range(1, n):\n",
    "#    pi_c = ...\n",
    "#    pi_g = ...\n",
    "#\n",
    "#    qi_c = ...\n",
    "#    qi_g = ...\n",
    "#\n",
    "#    q_c.append(qi_c)\n",
    "#    q_g.append(qi_g)\n"
   ]
  },
  {
   "cell_type": "markdown",
   "metadata": {
    "id": "4ZnTrBB5JK6f"
   },
   "source": [
    "As mentioned previously, with iteration of the reachable set computation, the number of generators for the zonotope being computed increases by 2. This will result in zonotopes with large numbers of generators, even for systems with relatively small number of steps.\n",
    "\n",
    "Zonotopes with large numbers of generators pose efficiency questions and are quite difficult to plot (pypolycontains requires additional dependencies starting from 13 generators), so a reduction step, which approximates the zonotope with a rectangle, can bring the number of generators down to 2, which is highlighted earlier in the tutorial. \n",
    "\n",
    "NOTE:\n",
    "In this tutorial, this will **only affect the visualization** of the results, as performance is not an issue in this simple example. For longer or more realistic computations, it might prove necessary to compute the reduced overapproximation in every iteration of the loop and continue computing following reachable sets based on that.\n",
    "\n"
   ]
  },
  {
   "cell_type": "code",
   "execution_count": null,
   "metadata": {
    "id": "q_kdX4uLJLIE"
   },
   "outputs": [],
   "source": [
    "zonotopes_to_plot = []                                          # we will use this to store our results\n",
    "\n",
    "for i in range(0, n):\n",
    "    # reduction step by interval hull\n",
    "    qi_g_reduced = np.zeros((2, 2))\n",
    "    for index, row in enumerate(q_g[i]):\n",
    "        qi_g_reduced[index, index] = np.sum(np.abs(row))\n",
    "\n",
    "    # add the reduced zonotope to the plot list\n",
    "    zonotopes_to_plot.append(pp.zonotope(x=q_c[i], G=qi_g_reduced))\n",
    "\n",
    "zonotopes_to_plot.append(init)                                  # append the initial set last so it is printed on top\n",
    "\n",
    "fig, ax = plt.subplots()\n",
    "pp.visualize(zonotopes_to_plot, title='Zonotope Reachability', fig=fig, ax=ax)\n",
    "plt.show()"
   ]
  }
 ],
 "metadata": {
  "colab": {
   "collapsed_sections": [],
   "provenance": [],
   "toc_visible": true
  },
  "kernelspec": {
   "display_name": "Python 3 (ipykernel)",
   "language": "python",
   "name": "python3"
  },
  "language_info": {
   "codemirror_mode": {
    "name": "ipython",
    "version": 3
   },
   "file_extension": ".py",
   "mimetype": "text/x-python",
   "name": "python",
   "nbconvert_exporter": "python",
   "pygments_lexer": "ipython3",
   "version": "3.8.10"
  },
  "vscode": {
   "interpreter": {
    "hash": "4c4b768e6b91420be1aa0f18e0e2b239a7d15704d4d1fda8bee26b340664750a"
   }
  }
 },
 "nbformat": 4,
 "nbformat_minor": 0
}
